{
 "cells": [
  {
   "cell_type": "markdown",
   "metadata": {
    "id": "NmxY9Hezyvrc"
   },
   "source": [
    "# Flight Price Prediction\n",
    "---"
   ]
  },
  {
   "cell_type": "code",
   "execution_count": 3,
   "metadata": {
    "id": "a-lCJ8cyyvre"
   },
   "outputs": [],
   "source": [
    "import numpy as np\n",
    "import pandas as pd\n",
    "import matplotlib.pyplot as plt\n",
    "import seaborn as sns\n",
    "\n",
    "sns.set()"
   ]
  },
  {
   "cell_type": "markdown",
   "metadata": {
    "id": "dIPpOP5Gyvrf"
   },
   "source": [
    "## Importing dataset"
   ]
  },
  {
   "cell_type": "code",
   "execution_count": 4,
   "metadata": {
    "id": "GYTEB_DSyvrg"
   },
   "outputs": [],
   "source": [
    "train_data = pd.read_excel(r\"C:\\Users\\91930\\Desktop\\flight fare project\\Data_Train.xlsx\")"
   ]
  },
  {
   "cell_type": "code",
   "execution_count": 5,
   "metadata": {
    "id": "31mT6RMIyvrh"
   },
   "outputs": [],
   "source": [
    "pd.set_option('display.max_columns', None)"
   ]
  },
  {
   "cell_type": "code",
   "execution_count": 6,
   "metadata": {
    "colab": {
     "base_uri": "https://localhost:8080/",
     "height": 652
    },
    "id": "ApmMLHHeyvrh",
    "outputId": "40164a6a-9deb-4fa8-921f-b70bdfed5795"
   },
   "outputs": [
    {
     "data": {
      "text/plain": "       Airline Date_of_Journey    Source Destination                  Route  \\\n0       IndiGo      24/03/2019  Banglore   New Delhi              BLR → DEL   \n1    Air India       1/05/2019   Kolkata    Banglore  CCU → IXR → BBI → BLR   \n2  Jet Airways       9/06/2019     Delhi      Cochin  DEL → LKO → BOM → COK   \n3       IndiGo      12/05/2019   Kolkata    Banglore        CCU → NAG → BLR   \n4       IndiGo      01/03/2019  Banglore   New Delhi        BLR → NAG → DEL   \n\n  Dep_Time  Arrival_Time Duration Total_Stops Additional_Info    Price  \n0    22:20  01:10 22 Mar   2h 50m    non-stop         No info   3897.0  \n1    05:50         13:15   7h 25m     2 stops         No info   7662.0  \n2    09:25  04:25 10 Jun      19h     2 stops         No info  13882.0  \n3    18:05         23:30   5h 25m      1 stop         No info   6218.0  \n4    16:50         21:35   4h 45m      1 stop         No info  13302.0  ",
      "text/html": "<div>\n<style scoped>\n    .dataframe tbody tr th:only-of-type {\n        vertical-align: middle;\n    }\n\n    .dataframe tbody tr th {\n        vertical-align: top;\n    }\n\n    .dataframe thead th {\n        text-align: right;\n    }\n</style>\n<table border=\"1\" class=\"dataframe\">\n  <thead>\n    <tr style=\"text-align: right;\">\n      <th></th>\n      <th>Airline</th>\n      <th>Date_of_Journey</th>\n      <th>Source</th>\n      <th>Destination</th>\n      <th>Route</th>\n      <th>Dep_Time</th>\n      <th>Arrival_Time</th>\n      <th>Duration</th>\n      <th>Total_Stops</th>\n      <th>Additional_Info</th>\n      <th>Price</th>\n    </tr>\n  </thead>\n  <tbody>\n    <tr>\n      <th>0</th>\n      <td>IndiGo</td>\n      <td>24/03/2019</td>\n      <td>Banglore</td>\n      <td>New Delhi</td>\n      <td>BLR → DEL</td>\n      <td>22:20</td>\n      <td>01:10 22 Mar</td>\n      <td>2h 50m</td>\n      <td>non-stop</td>\n      <td>No info</td>\n      <td>3897.0</td>\n    </tr>\n    <tr>\n      <th>1</th>\n      <td>Air India</td>\n      <td>1/05/2019</td>\n      <td>Kolkata</td>\n      <td>Banglore</td>\n      <td>CCU → IXR → BBI → BLR</td>\n      <td>05:50</td>\n      <td>13:15</td>\n      <td>7h 25m</td>\n      <td>2 stops</td>\n      <td>No info</td>\n      <td>7662.0</td>\n    </tr>\n    <tr>\n      <th>2</th>\n      <td>Jet Airways</td>\n      <td>9/06/2019</td>\n      <td>Delhi</td>\n      <td>Cochin</td>\n      <td>DEL → LKO → BOM → COK</td>\n      <td>09:25</td>\n      <td>04:25 10 Jun</td>\n      <td>19h</td>\n      <td>2 stops</td>\n      <td>No info</td>\n      <td>13882.0</td>\n    </tr>\n    <tr>\n      <th>3</th>\n      <td>IndiGo</td>\n      <td>12/05/2019</td>\n      <td>Kolkata</td>\n      <td>Banglore</td>\n      <td>CCU → NAG → BLR</td>\n      <td>18:05</td>\n      <td>23:30</td>\n      <td>5h 25m</td>\n      <td>1 stop</td>\n      <td>No info</td>\n      <td>6218.0</td>\n    </tr>\n    <tr>\n      <th>4</th>\n      <td>IndiGo</td>\n      <td>01/03/2019</td>\n      <td>Banglore</td>\n      <td>New Delhi</td>\n      <td>BLR → NAG → DEL</td>\n      <td>16:50</td>\n      <td>21:35</td>\n      <td>4h 45m</td>\n      <td>1 stop</td>\n      <td>No info</td>\n      <td>13302.0</td>\n    </tr>\n  </tbody>\n</table>\n</div>"
     },
     "execution_count": 6,
     "metadata": {},
     "output_type": "execute_result"
    }
   ],
   "source": [
    "train_data.head()"
   ]
  },
  {
   "cell_type": "code",
   "execution_count": 7,
   "metadata": {
    "colab": {
     "base_uri": "https://localhost:8080/"
    },
    "id": "HzS7N7Loyvrh",
    "outputId": "6d41cd01-a9df-4613-dc09-6805633a5c2d"
   },
   "outputs": [
    {
     "name": "stdout",
     "output_type": "stream",
     "text": [
      "<class 'pandas.core.frame.DataFrame'>\n",
      "RangeIndex: 10696 entries, 0 to 10695\n",
      "Data columns (total 11 columns):\n",
      " #   Column           Non-Null Count  Dtype  \n",
      "---  ------           --------------  -----  \n",
      " 0   Airline          10683 non-null  object \n",
      " 1   Date_of_Journey  10696 non-null  object \n",
      " 2   Source           10683 non-null  object \n",
      " 3   Destination      10696 non-null  object \n",
      " 4   Route            10695 non-null  object \n",
      " 5   Dep_Time         10696 non-null  object \n",
      " 6   Arrival_Time     10696 non-null  object \n",
      " 7   Duration         10696 non-null  object \n",
      " 8   Total_Stops      10695 non-null  object \n",
      " 9   Additional_Info  10696 non-null  object \n",
      " 10  Price            10696 non-null  float64\n",
      "dtypes: float64(1), object(10)\n",
      "memory usage: 919.3+ KB\n"
     ]
    }
   ],
   "source": [
    "train_data.info()"
   ]
  },
  {
   "cell_type": "code",
   "source": [
    "train_data.describe()"
   ],
   "metadata": {
    "colab": {
     "base_uri": "https://localhost:8080/",
     "height": 300
    },
    "id": "nFk9io_SYPq2",
    "outputId": "44fa9694-ac32-413a-e738-bad50dcad309"
   },
   "execution_count": 8,
   "outputs": [
    {
     "data": {
      "text/plain": "              Price\ncount  10696.000000\nmean    9086.171497\nstd     4608.627138\nmin     1759.000000\n25%     5277.000000\n50%     8372.000000\n75%    12373.000000\nmax    79512.000000",
      "text/html": "<div>\n<style scoped>\n    .dataframe tbody tr th:only-of-type {\n        vertical-align: middle;\n    }\n\n    .dataframe tbody tr th {\n        vertical-align: top;\n    }\n\n    .dataframe thead th {\n        text-align: right;\n    }\n</style>\n<table border=\"1\" class=\"dataframe\">\n  <thead>\n    <tr style=\"text-align: right;\">\n      <th></th>\n      <th>Price</th>\n    </tr>\n  </thead>\n  <tbody>\n    <tr>\n      <th>count</th>\n      <td>10696.000000</td>\n    </tr>\n    <tr>\n      <th>mean</th>\n      <td>9086.171497</td>\n    </tr>\n    <tr>\n      <th>std</th>\n      <td>4608.627138</td>\n    </tr>\n    <tr>\n      <th>min</th>\n      <td>1759.000000</td>\n    </tr>\n    <tr>\n      <th>25%</th>\n      <td>5277.000000</td>\n    </tr>\n    <tr>\n      <th>50%</th>\n      <td>8372.000000</td>\n    </tr>\n    <tr>\n      <th>75%</th>\n      <td>12373.000000</td>\n    </tr>\n    <tr>\n      <th>max</th>\n      <td>79512.000000</td>\n    </tr>\n  </tbody>\n</table>\n</div>"
     },
     "execution_count": 8,
     "metadata": {},
     "output_type": "execute_result"
    }
   ]
  },
  {
   "cell_type": "code",
   "execution_count": 9,
   "metadata": {
    "colab": {
     "base_uri": "https://localhost:8080/"
    },
    "id": "K4eAdkZEyvri",
    "outputId": "1c55417f-6075-46b0-81f2-bb9eba83c10a"
   },
   "outputs": [
    {
     "data": {
      "text/plain": "2h 50m     550\n1h 30m     386\n2h 45m     337\n2h 55m     337\n2h 35m     330\n          ... \n30h 15m      1\n5m           1\n47h          1\n33h 20m      1\n1h 22m       1\nName: Duration, Length: 375, dtype: int64"
     },
     "execution_count": 9,
     "metadata": {},
     "output_type": "execute_result"
    }
   ],
   "source": [
    "train_data[\"Duration\"].value_counts()"
   ]
  },
  {
   "cell_type": "code",
   "execution_count": 10,
   "metadata": {
    "id": "vzwaQGaDyvri"
   },
   "outputs": [],
   "source": [
    "train_data.dropna(inplace = True)"
   ]
  },
  {
   "cell_type": "code",
   "execution_count": 11,
   "metadata": {
    "colab": {
     "base_uri": "https://localhost:8080/"
    },
    "id": "D7WD6jNGyvrj",
    "outputId": "6327d087-3a57-40a0-fd3f-7a07c37cbab2"
   },
   "outputs": [
    {
     "data": {
      "text/plain": "Airline            0\nDate_of_Journey    0\nSource             0\nDestination        0\nRoute              0\nDep_Time           0\nArrival_Time       0\nDuration           0\nTotal_Stops        0\nAdditional_Info    0\nPrice              0\ndtype: int64"
     },
     "execution_count": 11,
     "metadata": {},
     "output_type": "execute_result"
    }
   ],
   "source": [
    "train_data.isnull().sum()"
   ]
  },
  {
   "cell_type": "markdown",
   "metadata": {
    "id": "DO51idlkyvrj"
   },
   "source": [
    "---"
   ]
  },
  {
   "cell_type": "markdown",
   "metadata": {
    "id": "6QNZyT42yvrk"
   },
   "source": [
    "## EDA"
   ]
  },
  {
   "cell_type": "code",
   "execution_count": 12,
   "metadata": {
    "id": "TRtAGp7wyvrk"
   },
   "outputs": [],
   "source": [
    "train_data[\"Journey_day\"] = pd.to_datetime(train_data.Date_of_Journey, format=\"%d/%m/%Y\").dt.day"
   ]
  },
  {
   "cell_type": "code",
   "execution_count": 13,
   "metadata": {
    "id": "O7kW8wGtyvrk"
   },
   "outputs": [],
   "source": [
    "train_data[\"Journey_month\"] = pd.to_datetime(train_data[\"Date_of_Journey\"], format = \"%d/%m/%Y\").dt.month"
   ]
  },
  {
   "cell_type": "code",
   "execution_count": 14,
   "metadata": {
    "colab": {
     "base_uri": "https://localhost:8080/",
     "height": 652
    },
    "id": "0p7lxgZ-yvrl",
    "outputId": "22528181-fc07-4904-cca2-05d8bf6dd6cf"
   },
   "outputs": [
    {
     "data": {
      "text/plain": "       Airline Date_of_Journey    Source Destination                  Route  \\\n0       IndiGo      24/03/2019  Banglore   New Delhi              BLR → DEL   \n1    Air India       1/05/2019   Kolkata    Banglore  CCU → IXR → BBI → BLR   \n2  Jet Airways       9/06/2019     Delhi      Cochin  DEL → LKO → BOM → COK   \n3       IndiGo      12/05/2019   Kolkata    Banglore        CCU → NAG → BLR   \n4       IndiGo      01/03/2019  Banglore   New Delhi        BLR → NAG → DEL   \n\n  Dep_Time  Arrival_Time Duration Total_Stops Additional_Info    Price  \\\n0    22:20  01:10 22 Mar   2h 50m    non-stop         No info   3897.0   \n1    05:50         13:15   7h 25m     2 stops         No info   7662.0   \n2    09:25  04:25 10 Jun      19h     2 stops         No info  13882.0   \n3    18:05         23:30   5h 25m      1 stop         No info   6218.0   \n4    16:50         21:35   4h 45m      1 stop         No info  13302.0   \n\n   Journey_day  Journey_month  \n0           24              3  \n1            1              5  \n2            9              6  \n3           12              5  \n4            1              3  ",
      "text/html": "<div>\n<style scoped>\n    .dataframe tbody tr th:only-of-type {\n        vertical-align: middle;\n    }\n\n    .dataframe tbody tr th {\n        vertical-align: top;\n    }\n\n    .dataframe thead th {\n        text-align: right;\n    }\n</style>\n<table border=\"1\" class=\"dataframe\">\n  <thead>\n    <tr style=\"text-align: right;\">\n      <th></th>\n      <th>Airline</th>\n      <th>Date_of_Journey</th>\n      <th>Source</th>\n      <th>Destination</th>\n      <th>Route</th>\n      <th>Dep_Time</th>\n      <th>Arrival_Time</th>\n      <th>Duration</th>\n      <th>Total_Stops</th>\n      <th>Additional_Info</th>\n      <th>Price</th>\n      <th>Journey_day</th>\n      <th>Journey_month</th>\n    </tr>\n  </thead>\n  <tbody>\n    <tr>\n      <th>0</th>\n      <td>IndiGo</td>\n      <td>24/03/2019</td>\n      <td>Banglore</td>\n      <td>New Delhi</td>\n      <td>BLR → DEL</td>\n      <td>22:20</td>\n      <td>01:10 22 Mar</td>\n      <td>2h 50m</td>\n      <td>non-stop</td>\n      <td>No info</td>\n      <td>3897.0</td>\n      <td>24</td>\n      <td>3</td>\n    </tr>\n    <tr>\n      <th>1</th>\n      <td>Air India</td>\n      <td>1/05/2019</td>\n      <td>Kolkata</td>\n      <td>Banglore</td>\n      <td>CCU → IXR → BBI → BLR</td>\n      <td>05:50</td>\n      <td>13:15</td>\n      <td>7h 25m</td>\n      <td>2 stops</td>\n      <td>No info</td>\n      <td>7662.0</td>\n      <td>1</td>\n      <td>5</td>\n    </tr>\n    <tr>\n      <th>2</th>\n      <td>Jet Airways</td>\n      <td>9/06/2019</td>\n      <td>Delhi</td>\n      <td>Cochin</td>\n      <td>DEL → LKO → BOM → COK</td>\n      <td>09:25</td>\n      <td>04:25 10 Jun</td>\n      <td>19h</td>\n      <td>2 stops</td>\n      <td>No info</td>\n      <td>13882.0</td>\n      <td>9</td>\n      <td>6</td>\n    </tr>\n    <tr>\n      <th>3</th>\n      <td>IndiGo</td>\n      <td>12/05/2019</td>\n      <td>Kolkata</td>\n      <td>Banglore</td>\n      <td>CCU → NAG → BLR</td>\n      <td>18:05</td>\n      <td>23:30</td>\n      <td>5h 25m</td>\n      <td>1 stop</td>\n      <td>No info</td>\n      <td>6218.0</td>\n      <td>12</td>\n      <td>5</td>\n    </tr>\n    <tr>\n      <th>4</th>\n      <td>IndiGo</td>\n      <td>01/03/2019</td>\n      <td>Banglore</td>\n      <td>New Delhi</td>\n      <td>BLR → NAG → DEL</td>\n      <td>16:50</td>\n      <td>21:35</td>\n      <td>4h 45m</td>\n      <td>1 stop</td>\n      <td>No info</td>\n      <td>13302.0</td>\n      <td>1</td>\n      <td>3</td>\n    </tr>\n  </tbody>\n</table>\n</div>"
     },
     "execution_count": 14,
     "metadata": {},
     "output_type": "execute_result"
    }
   ],
   "source": [
    "train_data.head()"
   ]
  },
  {
   "cell_type": "code",
   "execution_count": 15,
   "metadata": {
    "id": "5XtdlkJDyvrl"
   },
   "outputs": [],
   "source": [
    "# Since we have converted Date_of_Journey column into integers, Now we can drop as it is of no use.\n",
    "\n",
    "train_data.drop([\"Date_of_Journey\"], axis = 1, inplace = True)"
   ]
  },
  {
   "cell_type": "code",
   "execution_count": 16,
   "metadata": {
    "id": "yeNNKf11yvrl"
   },
   "outputs": [],
   "source": [
    "# Departure time is when a plane leaves the gate. \n",
    "# Similar to Date_of_Journey we can extract values from Dep_Time\n",
    "\n",
    "# Extracting Hours\n",
    "train_data[\"Dep_hour\"] = pd.to_datetime(train_data[\"Dep_Time\"]).dt.hour\n",
    "\n",
    "# Extracting Minutes\n",
    "train_data[\"Dep_min\"] = pd.to_datetime(train_data[\"Dep_Time\"]).dt.minute\n",
    "\n",
    "# Now we can drop Dep_Time as it is of no use\n",
    "train_data.drop([\"Dep_Time\"], axis = 1, inplace = True)"
   ]
  },
  {
   "cell_type": "code",
   "execution_count": 17,
   "metadata": {
    "colab": {
     "base_uri": "https://localhost:8080/",
     "height": 652
    },
    "id": "-rkk7nXnyvrm",
    "outputId": "5df737ff-cc09-48f4-990e-edda1fc80f95"
   },
   "outputs": [
    {
     "data": {
      "text/plain": "       Airline    Source Destination                  Route  Arrival_Time  \\\n0       IndiGo  Banglore   New Delhi              BLR → DEL  01:10 22 Mar   \n1    Air India   Kolkata    Banglore  CCU → IXR → BBI → BLR         13:15   \n2  Jet Airways     Delhi      Cochin  DEL → LKO → BOM → COK  04:25 10 Jun   \n3       IndiGo   Kolkata    Banglore        CCU → NAG → BLR         23:30   \n4       IndiGo  Banglore   New Delhi        BLR → NAG → DEL         21:35   \n\n  Duration Total_Stops Additional_Info    Price  Journey_day  Journey_month  \\\n0   2h 50m    non-stop         No info   3897.0           24              3   \n1   7h 25m     2 stops         No info   7662.0            1              5   \n2      19h     2 stops         No info  13882.0            9              6   \n3   5h 25m      1 stop         No info   6218.0           12              5   \n4   4h 45m      1 stop         No info  13302.0            1              3   \n\n   Dep_hour  Dep_min  \n0        22       20  \n1         5       50  \n2         9       25  \n3        18        5  \n4        16       50  ",
      "text/html": "<div>\n<style scoped>\n    .dataframe tbody tr th:only-of-type {\n        vertical-align: middle;\n    }\n\n    .dataframe tbody tr th {\n        vertical-align: top;\n    }\n\n    .dataframe thead th {\n        text-align: right;\n    }\n</style>\n<table border=\"1\" class=\"dataframe\">\n  <thead>\n    <tr style=\"text-align: right;\">\n      <th></th>\n      <th>Airline</th>\n      <th>Source</th>\n      <th>Destination</th>\n      <th>Route</th>\n      <th>Arrival_Time</th>\n      <th>Duration</th>\n      <th>Total_Stops</th>\n      <th>Additional_Info</th>\n      <th>Price</th>\n      <th>Journey_day</th>\n      <th>Journey_month</th>\n      <th>Dep_hour</th>\n      <th>Dep_min</th>\n    </tr>\n  </thead>\n  <tbody>\n    <tr>\n      <th>0</th>\n      <td>IndiGo</td>\n      <td>Banglore</td>\n      <td>New Delhi</td>\n      <td>BLR → DEL</td>\n      <td>01:10 22 Mar</td>\n      <td>2h 50m</td>\n      <td>non-stop</td>\n      <td>No info</td>\n      <td>3897.0</td>\n      <td>24</td>\n      <td>3</td>\n      <td>22</td>\n      <td>20</td>\n    </tr>\n    <tr>\n      <th>1</th>\n      <td>Air India</td>\n      <td>Kolkata</td>\n      <td>Banglore</td>\n      <td>CCU → IXR → BBI → BLR</td>\n      <td>13:15</td>\n      <td>7h 25m</td>\n      <td>2 stops</td>\n      <td>No info</td>\n      <td>7662.0</td>\n      <td>1</td>\n      <td>5</td>\n      <td>5</td>\n      <td>50</td>\n    </tr>\n    <tr>\n      <th>2</th>\n      <td>Jet Airways</td>\n      <td>Delhi</td>\n      <td>Cochin</td>\n      <td>DEL → LKO → BOM → COK</td>\n      <td>04:25 10 Jun</td>\n      <td>19h</td>\n      <td>2 stops</td>\n      <td>No info</td>\n      <td>13882.0</td>\n      <td>9</td>\n      <td>6</td>\n      <td>9</td>\n      <td>25</td>\n    </tr>\n    <tr>\n      <th>3</th>\n      <td>IndiGo</td>\n      <td>Kolkata</td>\n      <td>Banglore</td>\n      <td>CCU → NAG → BLR</td>\n      <td>23:30</td>\n      <td>5h 25m</td>\n      <td>1 stop</td>\n      <td>No info</td>\n      <td>6218.0</td>\n      <td>12</td>\n      <td>5</td>\n      <td>18</td>\n      <td>5</td>\n    </tr>\n    <tr>\n      <th>4</th>\n      <td>IndiGo</td>\n      <td>Banglore</td>\n      <td>New Delhi</td>\n      <td>BLR → NAG → DEL</td>\n      <td>21:35</td>\n      <td>4h 45m</td>\n      <td>1 stop</td>\n      <td>No info</td>\n      <td>13302.0</td>\n      <td>1</td>\n      <td>3</td>\n      <td>16</td>\n      <td>50</td>\n    </tr>\n  </tbody>\n</table>\n</div>"
     },
     "execution_count": 17,
     "metadata": {},
     "output_type": "execute_result"
    }
   ],
   "source": [
    "train_data.head()"
   ]
  },
  {
   "cell_type": "code",
   "execution_count": 18,
   "metadata": {
    "id": "XpkLDL_oyvrm"
   },
   "outputs": [],
   "source": [
    "# Arrival time is when the plane pulls up to the gate.\n",
    "# Similar to Date_of_Journey we can extract values from Arrival_Time\n",
    "\n",
    "# Extracting Hours\n",
    "train_data[\"Arrival_hour\"] = pd.to_datetime(train_data.Arrival_Time).dt.hour\n",
    "\n",
    "# Extracting Minutes\n",
    "train_data[\"Arrival_min\"] = pd.to_datetime(train_data.Arrival_Time).dt.minute\n",
    "\n",
    "# Now we can drop Arrival_Time as it is of no use\n",
    "train_data.drop([\"Arrival_Time\"], axis = 1, inplace = True)"
   ]
  },
  {
   "cell_type": "code",
   "execution_count": 19,
   "metadata": {
    "colab": {
     "base_uri": "https://localhost:8080/",
     "height": 652
    },
    "id": "HuHM1OZbyvrm",
    "outputId": "9c80e771-0a97-4899-8e71-f7f1e4c65e4c"
   },
   "outputs": [
    {
     "data": {
      "text/plain": "       Airline    Source Destination                  Route Duration  \\\n0       IndiGo  Banglore   New Delhi              BLR → DEL   2h 50m   \n1    Air India   Kolkata    Banglore  CCU → IXR → BBI → BLR   7h 25m   \n2  Jet Airways     Delhi      Cochin  DEL → LKO → BOM → COK      19h   \n3       IndiGo   Kolkata    Banglore        CCU → NAG → BLR   5h 25m   \n4       IndiGo  Banglore   New Delhi        BLR → NAG → DEL   4h 45m   \n\n  Total_Stops Additional_Info    Price  Journey_day  Journey_month  Dep_hour  \\\n0    non-stop         No info   3897.0           24              3        22   \n1     2 stops         No info   7662.0            1              5         5   \n2     2 stops         No info  13882.0            9              6         9   \n3      1 stop         No info   6218.0           12              5        18   \n4      1 stop         No info  13302.0            1              3        16   \n\n   Dep_min  Arrival_hour  Arrival_min  \n0       20             1           10  \n1       50            13           15  \n2       25             4           25  \n3        5            23           30  \n4       50            21           35  ",
      "text/html": "<div>\n<style scoped>\n    .dataframe tbody tr th:only-of-type {\n        vertical-align: middle;\n    }\n\n    .dataframe tbody tr th {\n        vertical-align: top;\n    }\n\n    .dataframe thead th {\n        text-align: right;\n    }\n</style>\n<table border=\"1\" class=\"dataframe\">\n  <thead>\n    <tr style=\"text-align: right;\">\n      <th></th>\n      <th>Airline</th>\n      <th>Source</th>\n      <th>Destination</th>\n      <th>Route</th>\n      <th>Duration</th>\n      <th>Total_Stops</th>\n      <th>Additional_Info</th>\n      <th>Price</th>\n      <th>Journey_day</th>\n      <th>Journey_month</th>\n      <th>Dep_hour</th>\n      <th>Dep_min</th>\n      <th>Arrival_hour</th>\n      <th>Arrival_min</th>\n    </tr>\n  </thead>\n  <tbody>\n    <tr>\n      <th>0</th>\n      <td>IndiGo</td>\n      <td>Banglore</td>\n      <td>New Delhi</td>\n      <td>BLR → DEL</td>\n      <td>2h 50m</td>\n      <td>non-stop</td>\n      <td>No info</td>\n      <td>3897.0</td>\n      <td>24</td>\n      <td>3</td>\n      <td>22</td>\n      <td>20</td>\n      <td>1</td>\n      <td>10</td>\n    </tr>\n    <tr>\n      <th>1</th>\n      <td>Air India</td>\n      <td>Kolkata</td>\n      <td>Banglore</td>\n      <td>CCU → IXR → BBI → BLR</td>\n      <td>7h 25m</td>\n      <td>2 stops</td>\n      <td>No info</td>\n      <td>7662.0</td>\n      <td>1</td>\n      <td>5</td>\n      <td>5</td>\n      <td>50</td>\n      <td>13</td>\n      <td>15</td>\n    </tr>\n    <tr>\n      <th>2</th>\n      <td>Jet Airways</td>\n      <td>Delhi</td>\n      <td>Cochin</td>\n      <td>DEL → LKO → BOM → COK</td>\n      <td>19h</td>\n      <td>2 stops</td>\n      <td>No info</td>\n      <td>13882.0</td>\n      <td>9</td>\n      <td>6</td>\n      <td>9</td>\n      <td>25</td>\n      <td>4</td>\n      <td>25</td>\n    </tr>\n    <tr>\n      <th>3</th>\n      <td>IndiGo</td>\n      <td>Kolkata</td>\n      <td>Banglore</td>\n      <td>CCU → NAG → BLR</td>\n      <td>5h 25m</td>\n      <td>1 stop</td>\n      <td>No info</td>\n      <td>6218.0</td>\n      <td>12</td>\n      <td>5</td>\n      <td>18</td>\n      <td>5</td>\n      <td>23</td>\n      <td>30</td>\n    </tr>\n    <tr>\n      <th>4</th>\n      <td>IndiGo</td>\n      <td>Banglore</td>\n      <td>New Delhi</td>\n      <td>BLR → NAG → DEL</td>\n      <td>4h 45m</td>\n      <td>1 stop</td>\n      <td>No info</td>\n      <td>13302.0</td>\n      <td>1</td>\n      <td>3</td>\n      <td>16</td>\n      <td>50</td>\n      <td>21</td>\n      <td>35</td>\n    </tr>\n  </tbody>\n</table>\n</div>"
     },
     "execution_count": 19,
     "metadata": {},
     "output_type": "execute_result"
    }
   ],
   "source": [
    "train_data.head()"
   ]
  },
  {
   "cell_type": "code",
   "execution_count": 20,
   "metadata": {
    "id": "Cm_YUhQZyvrm"
   },
   "outputs": [],
   "source": [
    "# Time taken by plane to reach destination is called Duration\n",
    "# It is the differnce betwwen Departure Time and Arrival time\n",
    "\n",
    "\n",
    "# Assigning and converting Duration column into list\n",
    "duration = list(train_data[\"Duration\"])\n",
    "\n",
    "for i in range(len(duration)):\n",
    "    if len(duration[i].split()) != 2:    # Check if duration contains only hour or mins\n",
    "        if \"h\" in duration[i]:\n",
    "            duration[i] = duration[i].strip() + \" 0m\"   # Adds 0 minute\n",
    "        else:\n",
    "            duration[i] = \"0h \" + duration[i]           # Adds 0 hour\n",
    "\n",
    "duration_hours = []\n",
    "duration_mins = []\n",
    "for i in range(len(duration)):\n",
    "    duration_hours.append(int(duration[i].split(sep = \"h\")[0]))    # Extract hours from duration\n",
    "    duration_mins.append(int(duration[i].split(sep = \"m\")[0].split()[-1]))   # Extracts only minutes from duration"
   ]
  },
  {
   "cell_type": "code",
   "execution_count": 21,
   "metadata": {
    "id": "iTlSznyQyvrn"
   },
   "outputs": [],
   "source": [
    "# Adding duration_hours and duration_mins list to train_data dataframe\n",
    "\n",
    "train_data[\"Duration_hours\"] = duration_hours\n",
    "train_data[\"Duration_mins\"] = duration_mins"
   ]
  },
  {
   "cell_type": "code",
   "execution_count": 22,
   "metadata": {
    "id": "hfc8AKsnyvrn"
   },
   "outputs": [],
   "source": [
    "train_data.drop([\"Duration\"], axis = 1, inplace = True)"
   ]
  },
  {
   "cell_type": "code",
   "execution_count": 23,
   "metadata": {
    "colab": {
     "base_uri": "https://localhost:8080/",
     "height": 652
    },
    "id": "Y4HPcjGlyvrn",
    "outputId": "fb211eae-ffee-44fd-fec2-c61d5b044204"
   },
   "outputs": [
    {
     "data": {
      "text/plain": "       Airline    Source Destination                  Route Total_Stops  \\\n0       IndiGo  Banglore   New Delhi              BLR → DEL    non-stop   \n1    Air India   Kolkata    Banglore  CCU → IXR → BBI → BLR     2 stops   \n2  Jet Airways     Delhi      Cochin  DEL → LKO → BOM → COK     2 stops   \n3       IndiGo   Kolkata    Banglore        CCU → NAG → BLR      1 stop   \n4       IndiGo  Banglore   New Delhi        BLR → NAG → DEL      1 stop   \n\n  Additional_Info    Price  Journey_day  Journey_month  Dep_hour  Dep_min  \\\n0         No info   3897.0           24              3        22       20   \n1         No info   7662.0            1              5         5       50   \n2         No info  13882.0            9              6         9       25   \n3         No info   6218.0           12              5        18        5   \n4         No info  13302.0            1              3        16       50   \n\n   Arrival_hour  Arrival_min  Duration_hours  Duration_mins  \n0             1           10               2             50  \n1            13           15               7             25  \n2             4           25              19              0  \n3            23           30               5             25  \n4            21           35               4             45  ",
      "text/html": "<div>\n<style scoped>\n    .dataframe tbody tr th:only-of-type {\n        vertical-align: middle;\n    }\n\n    .dataframe tbody tr th {\n        vertical-align: top;\n    }\n\n    .dataframe thead th {\n        text-align: right;\n    }\n</style>\n<table border=\"1\" class=\"dataframe\">\n  <thead>\n    <tr style=\"text-align: right;\">\n      <th></th>\n      <th>Airline</th>\n      <th>Source</th>\n      <th>Destination</th>\n      <th>Route</th>\n      <th>Total_Stops</th>\n      <th>Additional_Info</th>\n      <th>Price</th>\n      <th>Journey_day</th>\n      <th>Journey_month</th>\n      <th>Dep_hour</th>\n      <th>Dep_min</th>\n      <th>Arrival_hour</th>\n      <th>Arrival_min</th>\n      <th>Duration_hours</th>\n      <th>Duration_mins</th>\n    </tr>\n  </thead>\n  <tbody>\n    <tr>\n      <th>0</th>\n      <td>IndiGo</td>\n      <td>Banglore</td>\n      <td>New Delhi</td>\n      <td>BLR → DEL</td>\n      <td>non-stop</td>\n      <td>No info</td>\n      <td>3897.0</td>\n      <td>24</td>\n      <td>3</td>\n      <td>22</td>\n      <td>20</td>\n      <td>1</td>\n      <td>10</td>\n      <td>2</td>\n      <td>50</td>\n    </tr>\n    <tr>\n      <th>1</th>\n      <td>Air India</td>\n      <td>Kolkata</td>\n      <td>Banglore</td>\n      <td>CCU → IXR → BBI → BLR</td>\n      <td>2 stops</td>\n      <td>No info</td>\n      <td>7662.0</td>\n      <td>1</td>\n      <td>5</td>\n      <td>5</td>\n      <td>50</td>\n      <td>13</td>\n      <td>15</td>\n      <td>7</td>\n      <td>25</td>\n    </tr>\n    <tr>\n      <th>2</th>\n      <td>Jet Airways</td>\n      <td>Delhi</td>\n      <td>Cochin</td>\n      <td>DEL → LKO → BOM → COK</td>\n      <td>2 stops</td>\n      <td>No info</td>\n      <td>13882.0</td>\n      <td>9</td>\n      <td>6</td>\n      <td>9</td>\n      <td>25</td>\n      <td>4</td>\n      <td>25</td>\n      <td>19</td>\n      <td>0</td>\n    </tr>\n    <tr>\n      <th>3</th>\n      <td>IndiGo</td>\n      <td>Kolkata</td>\n      <td>Banglore</td>\n      <td>CCU → NAG → BLR</td>\n      <td>1 stop</td>\n      <td>No info</td>\n      <td>6218.0</td>\n      <td>12</td>\n      <td>5</td>\n      <td>18</td>\n      <td>5</td>\n      <td>23</td>\n      <td>30</td>\n      <td>5</td>\n      <td>25</td>\n    </tr>\n    <tr>\n      <th>4</th>\n      <td>IndiGo</td>\n      <td>Banglore</td>\n      <td>New Delhi</td>\n      <td>BLR → NAG → DEL</td>\n      <td>1 stop</td>\n      <td>No info</td>\n      <td>13302.0</td>\n      <td>1</td>\n      <td>3</td>\n      <td>16</td>\n      <td>50</td>\n      <td>21</td>\n      <td>35</td>\n      <td>4</td>\n      <td>45</td>\n    </tr>\n  </tbody>\n</table>\n</div>"
     },
     "execution_count": 23,
     "metadata": {},
     "output_type": "execute_result"
    }
   ],
   "source": [
    "train_data.head()"
   ]
  },
  {
   "cell_type": "markdown",
   "metadata": {
    "id": "bs5IgrPzyvrn"
   },
   "source": [
    "---"
   ]
  },
  {
   "cell_type": "markdown",
   "metadata": {
    "id": "RK47SUf2yvro"
   },
   "source": [
    "## Handling Categorical Data\n",
    "\n"
   ]
  },
  {
   "cell_type": "code",
   "execution_count": 24,
   "metadata": {
    "colab": {
     "base_uri": "https://localhost:8080/"
    },
    "id": "sjISZy3syvro",
    "outputId": "94190812-4118-4d44-e032-9cea7a1fb3c2"
   },
   "outputs": [
    {
     "data": {
      "text/plain": "Jet Airways                          3849\nIndiGo                               2053\nAir India                            1751\nMultiple carriers                    1196\nSpiceJet                              818\nVistara                               479\nAir Asia                              319\nGoAir                                 194\nMultiple carriers Premium economy      13\nJet Airways Business                    6\nVistara Premium economy                 3\nTrujet                                  1\nName: Airline, dtype: int64"
     },
     "execution_count": 24,
     "metadata": {},
     "output_type": "execute_result"
    }
   ],
   "source": [
    "train_data[\"Airline\"].value_counts()"
   ]
  },
  {
   "cell_type": "code",
   "execution_count": 25,
   "metadata": {
    "colab": {
     "base_uri": "https://localhost:8080/",
     "height": 224
    },
    "id": "RndM0ptGyvro",
    "outputId": "ffda4a9a-0a2c-4720-c9f6-385161c3f620"
   },
   "outputs": [
    {
     "data": {
      "text/plain": "<Figure size 1296x432 with 1 Axes>",
      "image/png": "[encoded data removed]"
     },
     "metadata": {},
     "output_type": "display_data"
    }
   ],
   "source": [
    "# From graph we can see that Jet Airways Business have the highest Price.\n",
    "# Apart from the first Airline almost all are having similar median\n",
    "\n",
    "# Airline vs Price\n",
    "sns.catplot(y = \"Price\", x = \"Airline\", data = train_data.sort_values(\"Price\", ascending = False), kind=\"boxen\", height = 6, aspect = 3)\n",
    "plt.show()"
   ]
  },
  {
   "cell_type": "code",
   "execution_count": 26,
   "metadata": {
    "colab": {
     "base_uri": "https://localhost:8080/",
     "height": 305
    },
    "id": "c7t0ZL_wyvro",
    "outputId": "941911d8-db1b-4e1a-a2ad-ff9edb324794"
   },
   "outputs": [
    {
     "data": {
      "text/plain": "   Airline_Air India  Airline_GoAir  Airline_IndiGo  Airline_Jet Airways  \\\n0                  0              0               1                    0   \n1                  1              0               0                    0   \n2                  0              0               0                    1   \n3                  0              0               1                    0   \n4                  0              0               1                    0   \n\n   Airline_Jet Airways Business  Airline_Multiple carriers  \\\n0                             0                          0   \n1                             0                          0   \n2                             0                          0   \n3                             0                          0   \n4                             0                          0   \n\n   Airline_Multiple carriers Premium economy  Airline_SpiceJet  \\\n0                                          0                 0   \n1                                          0                 0   \n2                                          0                 0   \n3                                          0                 0   \n4                                          0                 0   \n\n   Airline_Trujet  Airline_Vistara  Airline_Vistara Premium economy  \n0               0                0                                0  \n1               0                0                                0  \n2               0                0                                0  \n3               0                0                                0  \n4               0                0                                0  ",
      "text/html": "<div>\n<style scoped>\n    .dataframe tbody tr th:only-of-type {\n        vertical-align: middle;\n    }\n\n    .dataframe tbody tr th {\n        vertical-align: top;\n    }\n\n    .dataframe thead th {\n        text-align: right;\n    }\n</style>\n<table border=\"1\" class=\"dataframe\">\n  <thead>\n    <tr style=\"text-align: right;\">\n      <th></th>\n      <th>Airline_Air India</th>\n      <th>Airline_GoAir</th>\n      <th>Airline_IndiGo</th>\n      <th>Airline_Jet Airways</th>\n      <th>Airline_Jet Airways Business</th>\n      <th>Airline_Multiple carriers</th>\n      <th>Airline_Multiple carriers Premium economy</th>\n      <th>Airline_SpiceJet</th>\n      <th>Airline_Trujet</th>\n      <th>Airline_Vistara</th>\n      <th>Airline_Vistara Premium economy</th>\n    </tr>\n  </thead>\n  <tbody>\n    <tr>\n      <th>0</th>\n      <td>0</td>\n      <td>0</td>\n      <td>1</td>\n      <td>0</td>\n      <td>0</td>\n      <td>0</td>\n      <td>0</td>\n      <td>0</td>\n      <td>0</td>\n      <td>0</td>\n      <td>0</td>\n    </tr>\n    <tr>\n      <th>1</th>\n      <td>1</td>\n      <td>0</td>\n      <td>0</td>\n      <td>0</td>\n      <td>0</td>\n      <td>0</td>\n      <td>0</td>\n      <td>0</td>\n      <td>0</td>\n      <td>0</td>\n      <td>0</td>\n    </tr>\n    <tr>\n      <th>2</th>\n      <td>0</td>\n      <td>0</td>\n      <td>0</td>\n      <td>1</td>\n      <td>0</td>\n      <td>0</td>\n      <td>0</td>\n      <td>0</td>\n      <td>0</td>\n      <td>0</td>\n      <td>0</td>\n    </tr>\n    <tr>\n      <th>3</th>\n      <td>0</td>\n      <td>0</td>\n      <td>1</td>\n      <td>0</td>\n      <td>0</td>\n      <td>0</td>\n      <td>0</td>\n      <td>0</td>\n      <td>0</td>\n      <td>0</td>\n      <td>0</td>\n    </tr>\n    <tr>\n      <th>4</th>\n      <td>0</td>\n      <td>0</td>\n      <td>1</td>\n      <td>0</td>\n      <td>0</td>\n      <td>0</td>\n      <td>0</td>\n      <td>0</td>\n      <td>0</td>\n      <td>0</td>\n      <td>0</td>\n    </tr>\n  </tbody>\n</table>\n</div>"
     },
     "execution_count": 26,
     "metadata": {},
     "output_type": "execute_result"
    }
   ],
   "source": [
    "# As Airline is Nominal Categorical data we will perform OneHotEncoding\n",
    "\n",
    "Airline = train_data[[\"Airline\"]]\n",
    "\n",
    "Airline = pd.get_dummies(Airline, drop_first= True)\n",
    "\n",
    "Airline.head()"
   ]
  },
  {
   "cell_type": "code",
   "execution_count": 27,
   "metadata": {
    "colab": {
     "base_uri": "https://localhost:8080/"
    },
    "id": "lrxBMvAcyvrp",
    "outputId": "370d83af-10f3-4303-b278-9fa1f9b6aa92"
   },
   "outputs": [
    {
     "data": {
      "text/plain": "Delhi       4536\nKolkata     2871\nBanglore    2197\nMumbai       697\nChennai      381\nName: Source, dtype: int64"
     },
     "execution_count": 27,
     "metadata": {},
     "output_type": "execute_result"
    }
   ],
   "source": [
    "train_data[\"Source\"].value_counts()"
   ]
  },
  {
   "cell_type": "code",
   "execution_count": 28,
   "metadata": {
    "colab": {
     "base_uri": "https://localhost:8080/",
     "height": 222
    },
    "id": "kycmLqx4yvrp",
    "outputId": "4f6e428d-4c00-4795-d1d5-5de433ac2d07"
   },
   "outputs": [
    {
     "data": {
      "text/plain": "<Figure size 864x288 with 1 Axes>",
      "image/png": "[encoded data removed]"
     },
     "metadata": {},
     "output_type": "display_data"
    }
   ],
   "source": [
    "# Source vs Price\n",
    "\n",
    "sns.catplot(y = \"Price\", x = \"Source\", data = train_data.sort_values(\"Price\", ascending = False), kind=\"boxen\", height = 4, aspect = 3)\n",
    "plt.show()"
   ]
  },
  {
   "cell_type": "code",
   "execution_count": 29,
   "metadata": {
    "colab": {
     "base_uri": "https://localhost:8080/",
     "height": 206
    },
    "id": "2wzq07kkyvrp",
    "outputId": "a4bbdb95-ca94-4676-b9d4-91e30b4ada3d"
   },
   "outputs": [
    {
     "data": {
      "text/plain": "   Source_Chennai  Source_Delhi  Source_Kolkata  Source_Mumbai\n0               0             0               0              0\n1               0             0               1              0\n2               0             1               0              0\n3               0             0               1              0\n4               0             0               0              0",
      "text/html": "<div>\n<style scoped>\n    .dataframe tbody tr th:only-of-type {\n        vertical-align: middle;\n    }\n\n    .dataframe tbody tr th {\n        vertical-align: top;\n    }\n\n    .dataframe thead th {\n        text-align: right;\n    }\n</style>\n<table border=\"1\" class=\"dataframe\">\n  <thead>\n    <tr style=\"text-align: right;\">\n      <th></th>\n      <th>Source_Chennai</th>\n      <th>Source_Delhi</th>\n      <th>Source_Kolkata</th>\n      <th>Source_Mumbai</th>\n    </tr>\n  </thead>\n  <tbody>\n    <tr>\n      <th>0</th>\n      <td>0</td>\n      <td>0</td>\n      <td>0</td>\n      <td>0</td>\n    </tr>\n    <tr>\n      <th>1</th>\n      <td>0</td>\n      <td>0</td>\n      <td>1</td>\n      <td>0</td>\n    </tr>\n    <tr>\n      <th>2</th>\n      <td>0</td>\n      <td>1</td>\n      <td>0</td>\n      <td>0</td>\n    </tr>\n    <tr>\n      <th>3</th>\n      <td>0</td>\n      <td>0</td>\n      <td>1</td>\n      <td>0</td>\n    </tr>\n    <tr>\n      <th>4</th>\n      <td>0</td>\n      <td>0</td>\n      <td>0</td>\n      <td>0</td>\n    </tr>\n  </tbody>\n</table>\n</div>"
     },
     "execution_count": 29,
     "metadata": {},
     "output_type": "execute_result"
    }
   ],
   "source": [
    "# As Source is Nominal Categorical data we will perform OneHotEncoding\n",
    "\n",
    "Source = train_data[[\"Source\"]]\n",
    "\n",
    "Source = pd.get_dummies(Source, drop_first= True)\n",
    "\n",
    "Source.head()"
   ]
  },
  {
   "cell_type": "code",
   "execution_count": 30,
   "metadata": {
    "colab": {
     "base_uri": "https://localhost:8080/"
    },
    "id": "fFBuVDwpyvrr",
    "outputId": "3b3d9582-4afb-4670-c23f-928d45827717"
   },
   "outputs": [
    {
     "data": {
      "text/plain": "Cochin       4536\nBanglore     2871\nDelhi        1265\nNew Delhi     932\nHyderabad     697\nKolkata       381\nName: Destination, dtype: int64"
     },
     "execution_count": 30,
     "metadata": {},
     "output_type": "execute_result"
    }
   ],
   "source": [
    "train_data[\"Destination\"].value_counts()"
   ]
  },
  {
   "cell_type": "code",
   "execution_count": 31,
   "metadata": {
    "colab": {
     "base_uri": "https://localhost:8080/",
     "height": 287
    },
    "id": "eHWhqo1-yvrr",
    "outputId": "0df8cd7e-50b9-4dca-8239-730165e6532c"
   },
   "outputs": [
    {
     "data": {
      "text/plain": "   Destination_Cochin  Destination_Delhi  Destination_Hyderabad  \\\n0                   0                  0                      0   \n1                   0                  0                      0   \n2                   1                  0                      0   \n3                   0                  0                      0   \n4                   0                  0                      0   \n\n   Destination_Kolkata  Destination_New Delhi  \n0                    0                      1  \n1                    0                      0  \n2                    0                      0  \n3                    0                      0  \n4                    0                      1  ",
      "text/html": "<div>\n<style scoped>\n    .dataframe tbody tr th:only-of-type {\n        vertical-align: middle;\n    }\n\n    .dataframe tbody tr th {\n        vertical-align: top;\n    }\n\n    .dataframe thead th {\n        text-align: right;\n    }\n</style>\n<table border=\"1\" class=\"dataframe\">\n  <thead>\n    <tr style=\"text-align: right;\">\n      <th></th>\n      <th>Destination_Cochin</th>\n      <th>Destination_Delhi</th>\n      <th>Destination_Hyderabad</th>\n      <th>Destination_Kolkata</th>\n      <th>Destination_New Delhi</th>\n    </tr>\n  </thead>\n  <tbody>\n    <tr>\n      <th>0</th>\n      <td>0</td>\n      <td>0</td>\n      <td>0</td>\n      <td>0</td>\n      <td>1</td>\n    </tr>\n    <tr>\n      <th>1</th>\n      <td>0</td>\n      <td>0</td>\n      <td>0</td>\n      <td>0</td>\n      <td>0</td>\n    </tr>\n    <tr>\n      <th>2</th>\n      <td>1</td>\n      <td>0</td>\n      <td>0</td>\n      <td>0</td>\n      <td>0</td>\n    </tr>\n    <tr>\n      <th>3</th>\n      <td>0</td>\n      <td>0</td>\n      <td>0</td>\n      <td>0</td>\n      <td>0</td>\n    </tr>\n    <tr>\n      <th>4</th>\n      <td>0</td>\n      <td>0</td>\n      <td>0</td>\n      <td>0</td>\n      <td>1</td>\n    </tr>\n  </tbody>\n</table>\n</div>"
     },
     "execution_count": 31,
     "metadata": {},
     "output_type": "execute_result"
    }
   ],
   "source": [
    "# As Destination is Nominal Categorical data we will perform OneHotEncoding\n",
    "\n",
    "Destination = train_data[[\"Destination\"]]\n",
    "\n",
    "Destination = pd.get_dummies(Destination, drop_first = True)\n",
    "\n",
    "Destination.head()"
   ]
  },
  {
   "cell_type": "code",
   "execution_count": 32,
   "metadata": {
    "colab": {
     "base_uri": "https://localhost:8080/"
    },
    "id": "c5sJNtsCyvrs",
    "outputId": "b5970c85-5ea8-4c4e-e394-48a8da26cf12"
   },
   "outputs": [
    {
     "data": {
      "text/plain": "0                    BLR → DEL\n1        CCU → IXR → BBI → BLR\n2        DEL → LKO → BOM → COK\n3              CCU → NAG → BLR\n4              BLR → NAG → DEL\n                 ...          \n10678                CCU → BLR\n10679                CCU → BLR\n10680                BLR → DEL\n10681                BLR → DEL\n10682    DEL → GOI → BOM → COK\nName: Route, Length: 10682, dtype: object"
     },
     "execution_count": 32,
     "metadata": {},
     "output_type": "execute_result"
    }
   ],
   "source": [
    "train_data[\"Route\"]"
   ]
  },
  {
   "cell_type": "code",
   "execution_count": 33,
   "metadata": {
    "id": "Vbs-KsS0yvrs"
   },
   "outputs": [],
   "source": [
    "# Additional_Info contains almost 80% no_info\n",
    "# Route and Total_Stops are related to each other\n",
    "\n",
    "train_data.drop([\"Route\", \"Additional_Info\"], axis = 1, inplace = True)"
   ]
  },
  {
   "cell_type": "code",
   "execution_count": 34,
   "metadata": {
    "colab": {
     "base_uri": "https://localhost:8080/"
    },
    "id": "nlsUBzF1yvrs",
    "outputId": "537bce2c-14f8-4673-cfe1-0f05ba6bfd84"
   },
   "outputs": [
    {
     "data": {
      "text/plain": "1 stop      5625\nnon-stop    3491\n2 stops     1520\n3 stops       45\n4 stops        1\nName: Total_Stops, dtype: int64"
     },
     "execution_count": 34,
     "metadata": {},
     "output_type": "execute_result"
    }
   ],
   "source": [
    "train_data[\"Total_Stops\"].value_counts()"
   ]
  },
  {
   "cell_type": "code",
   "execution_count": 35,
   "metadata": {
    "id": "EJXGaR7Cyvrs"
   },
   "outputs": [],
   "source": [
    "# As this is case of Ordinal Categorical type we perform LabelEncoder\n",
    "# Here Values are assigned with corresponding keys\n",
    "\n",
    "train_data.replace({\"non-stop\": 0, \"1 stop\": 1, \"2 stops\": 2, \"3 stops\": 3, \"4 stops\": 4}, inplace = True)"
   ]
  },
  {
   "cell_type": "code",
   "execution_count": 36,
   "metadata": {
    "colab": {
     "base_uri": "https://localhost:8080/",
     "height": 287
    },
    "id": "_BCZtQkDyvrs",
    "outputId": "5fa3717b-8b98-45a0-9a36-26ce3aad6cbd"
   },
   "outputs": [
    {
     "data": {
      "text/plain": "       Airline    Source Destination  Total_Stops    Price  Journey_day  \\\n0       IndiGo  Banglore   New Delhi            0   3897.0           24   \n1    Air India   Kolkata    Banglore            2   7662.0            1   \n2  Jet Airways     Delhi      Cochin            2  13882.0            9   \n3       IndiGo   Kolkata    Banglore            1   6218.0           12   \n4       IndiGo  Banglore   New Delhi            1  13302.0            1   \n\n   Journey_month  Dep_hour  Dep_min  Arrival_hour  Arrival_min  \\\n0              3        22       20             1           10   \n1              5         5       50            13           15   \n2              6         9       25             4           25   \n3              5        18        5            23           30   \n4              3        16       50            21           35   \n\n   Duration_hours  Duration_mins  \n0               2             50  \n1               7             25  \n2              19              0  \n3               5             25  \n4               4             45  ",
      "text/html": "<div>\n<style scoped>\n    .dataframe tbody tr th:only-of-type {\n        vertical-align: middle;\n    }\n\n    .dataframe tbody tr th {\n        vertical-align: top;\n    }\n\n    .dataframe thead th {\n        text-align: right;\n    }\n</style>\n<table border=\"1\" class=\"dataframe\">\n  <thead>\n    <tr style=\"text-align: right;\">\n      <th></th>\n      <th>Airline</th>\n      <th>Source</th>\n      <th>Destination</th>\n      <th>Total_Stops</th>\n      <th>Price</th>\n      <th>Journey_day</th>\n      <th>Journey_month</th>\n      <th>Dep_hour</th>\n      <th>Dep_min</th>\n      <th>Arrival_hour</th>\n      <th>Arrival_min</th>\n      <th>Duration_hours</th>\n      <th>Duration_mins</th>\n    </tr>\n  </thead>\n  <tbody>\n    <tr>\n      <th>0</th>\n      <td>IndiGo</td>\n      <td>Banglore</td>\n      <td>New Delhi</td>\n      <td>0</td>\n      <td>3897.0</td>\n      <td>24</td>\n      <td>3</td>\n      <td>22</td>\n      <td>20</td>\n      <td>1</td>\n      <td>10</td>\n      <td>2</td>\n      <td>50</td>\n    </tr>\n    <tr>\n      <th>1</th>\n      <td>Air India</td>\n      <td>Kolkata</td>\n      <td>Banglore</td>\n      <td>2</td>\n      <td>7662.0</td>\n      <td>1</td>\n      <td>5</td>\n      <td>5</td>\n      <td>50</td>\n      <td>13</td>\n      <td>15</td>\n      <td>7</td>\n      <td>25</td>\n    </tr>\n    <tr>\n      <th>2</th>\n      <td>Jet Airways</td>\n      <td>Delhi</td>\n      <td>Cochin</td>\n      <td>2</td>\n      <td>13882.0</td>\n      <td>9</td>\n      <td>6</td>\n      <td>9</td>\n      <td>25</td>\n      <td>4</td>\n      <td>25</td>\n      <td>19</td>\n      <td>0</td>\n    </tr>\n    <tr>\n      <th>3</th>\n      <td>IndiGo</td>\n      <td>Kolkata</td>\n      <td>Banglore</td>\n      <td>1</td>\n      <td>6218.0</td>\n      <td>12</td>\n      <td>5</td>\n      <td>18</td>\n      <td>5</td>\n      <td>23</td>\n      <td>30</td>\n      <td>5</td>\n      <td>25</td>\n    </tr>\n    <tr>\n      <th>4</th>\n      <td>IndiGo</td>\n      <td>Banglore</td>\n      <td>New Delhi</td>\n      <td>1</td>\n      <td>13302.0</td>\n      <td>1</td>\n      <td>3</td>\n      <td>16</td>\n      <td>50</td>\n      <td>21</td>\n      <td>35</td>\n      <td>4</td>\n      <td>45</td>\n    </tr>\n  </tbody>\n</table>\n</div>"
     },
     "execution_count": 36,
     "metadata": {},
     "output_type": "execute_result"
    }
   ],
   "source": [
    "train_data.head()"
   ]
  },
  {
   "cell_type": "code",
   "execution_count": 37,
   "metadata": {
    "id": "nV0quO2fyvrs"
   },
   "outputs": [],
   "source": [
    "# Concatenate dataframe --> train_data + Airline + Source + Destination\n",
    "\n",
    "data_train = pd.concat([train_data, Airline, Source, Destination], axis = 1)"
   ]
  },
  {
   "cell_type": "code",
   "execution_count": 38,
   "metadata": {
    "colab": {
     "base_uri": "https://localhost:8080/",
     "height": 322
    },
    "id": "MF1WV14zyvrs",
    "outputId": "a02036a6-3ff8-4d35-e970-1251dc64b205"
   },
   "outputs": [
    {
     "data": {
      "text/plain": "       Airline    Source Destination  Total_Stops    Price  Journey_day  \\\n0       IndiGo  Banglore   New Delhi            0   3897.0           24   \n1    Air India   Kolkata    Banglore            2   7662.0            1   \n2  Jet Airways     Delhi      Cochin            2  13882.0            9   \n3       IndiGo   Kolkata    Banglore            1   6218.0           12   \n4       IndiGo  Banglore   New Delhi            1  13302.0            1   \n\n   Journey_month  Dep_hour  Dep_min  Arrival_hour  Arrival_min  \\\n0              3        22       20             1           10   \n1              5         5       50            13           15   \n2              6         9       25             4           25   \n3              5        18        5            23           30   \n4              3        16       50            21           35   \n\n   Duration_hours  Duration_mins  Airline_Air India  Airline_GoAir  \\\n0               2             50                  0              0   \n1               7             25                  1              0   \n2              19              0                  0              0   \n3               5             25                  0              0   \n4               4             45                  0              0   \n\n   Airline_IndiGo  Airline_Jet Airways  Airline_Jet Airways Business  \\\n0               1                    0                             0   \n1               0                    0                             0   \n2               0                    1                             0   \n3               1                    0                             0   \n4               1                    0                             0   \n\n   Airline_Multiple carriers  Airline_Multiple carriers Premium economy  \\\n0                          0                                          0   \n1                          0                                          0   \n2                          0                                          0   \n3                          0                                          0   \n4                          0                                          0   \n\n   Airline_SpiceJet  Airline_Trujet  Airline_Vistara  \\\n0                 0               0                0   \n1                 0               0                0   \n2                 0               0                0   \n3                 0               0                0   \n4                 0               0                0   \n\n   Airline_Vistara Premium economy  Source_Chennai  Source_Delhi  \\\n0                                0               0             0   \n1                                0               0             0   \n2                                0               0             1   \n3                                0               0             0   \n4                                0               0             0   \n\n   Source_Kolkata  Source_Mumbai  Destination_Cochin  Destination_Delhi  \\\n0               0              0                   0                  0   \n1               1              0                   0                  0   \n2               0              0                   1                  0   \n3               1              0                   0                  0   \n4               0              0                   0                  0   \n\n   Destination_Hyderabad  Destination_Kolkata  Destination_New Delhi  \n0                      0                    0                      1  \n1                      0                    0                      0  \n2                      0                    0                      0  \n3                      0                    0                      0  \n4                      0                    0                      1  ",
      "text/html": "<div>\n<style scoped>\n    .dataframe tbody tr th:only-of-type {\n        vertical-align: middle;\n    }\n\n    .dataframe tbody tr th {\n        vertical-align: top;\n    }\n\n    .dataframe thead th {\n        text-align: right;\n    }\n</style>\n<table border=\"1\" class=\"dataframe\">\n  <thead>\n    <tr style=\"text-align: right;\">\n      <th></th>\n      <th>Airline</th>\n      <th>Source</th>\n      <th>Destination</th>\n      <th>Total_Stops</th>\n      <th>Price</th>\n      <th>Journey_day</th>\n      <th>Journey_month</th>\n      <th>Dep_hour</th>\n      <th>Dep_min</th>\n      <th>Arrival_hour</th>\n      <th>Arrival_min</th>\n      <th>Duration_hours</th>\n      <th>Duration_mins</th>\n      <th>Airline_Air India</th>\n      <th>Airline_GoAir</th>\n      <th>Airline_IndiGo</th>\n      <th>Airline_Jet Airways</th>\n      <th>Airline_Jet Airways Business</th>\n      <th>Airline_Multiple carriers</th>\n      <th>Airline_Multiple carriers Premium economy</th>\n      <th>Airline_SpiceJet</th>\n      <th>Airline_Trujet</th>\n      <th>Airline_Vistara</th>\n      <th>Airline_Vistara Premium economy</th>\n      <th>Source_Chennai</th>\n      <th>Source_Delhi</th>\n      <th>Source_Kolkata</th>\n      <th>Source_Mumbai</th>\n      <th>Destination_Cochin</th>\n      <th>Destination_Delhi</th>\n      <th>Destination_Hyderabad</th>\n      <th>Destination_Kolkata</th>\n      <th>Destination_New Delhi</th>\n    </tr>\n  </thead>\n  <tbody>\n    <tr>\n      <th>0</th>\n      <td>IndiGo</td>\n      <td>Banglore</td>\n      <td>New Delhi</td>\n      <td>0</td>\n      <td>3897.0</td>\n      <td>24</td>\n      <td>3</td>\n      <td>22</td>\n      <td>20</td>\n      <td>1</td>\n      <td>10</td>\n      <td>2</td>\n      <td>50</td>\n      <td>0</td>\n      <td>0</td>\n      <td>1</td>\n      <td>0</td>\n      <td>0</td>\n      <td>0</td>\n      <td>0</td>\n      <td>0</td>\n      <td>0</td>\n      <td>0</td>\n      <td>0</td>\n      <td>0</td>\n      <td>0</td>\n      <td>0</td>\n      <td>0</td>\n      <td>0</td>\n      <td>0</td>\n      <td>0</td>\n      <td>0</td>\n      <td>1</td>\n    </tr>\n    <tr>\n      <th>1</th>\n      <td>Air India</td>\n      <td>Kolkata</td>\n      <td>Banglore</td>\n      <td>2</td>\n      <td>7662.0</td>\n      <td>1</td>\n      <td>5</td>\n      <td>5</td>\n      <td>50</td>\n      <td>13</td>\n      <td>15</td>\n      <td>7</td>\n      <td>25</td>\n      <td>1</td>\n      <td>0</td>\n      <td>0</td>\n      <td>0</td>\n      <td>0</td>\n      <td>0</td>\n      <td>0</td>\n      <td>0</td>\n      <td>0</td>\n      <td>0</td>\n      <td>0</td>\n      <td>0</td>\n      <td>0</td>\n      <td>1</td>\n      <td>0</td>\n      <td>0</td>\n      <td>0</td>\n      <td>0</td>\n      <td>0</td>\n      <td>0</td>\n    </tr>\n    <tr>\n      <th>2</th>\n      <td>Jet Airways</td>\n      <td>Delhi</td>\n      <td>Cochin</td>\n      <td>2</td>\n      <td>13882.0</td>\n      <td>9</td>\n      <td>6</td>\n      <td>9</td>\n      <td>25</td>\n      <td>4</td>\n      <td>25</td>\n      <td>19</td>\n      <td>0</td>\n      <td>0</td>\n      <td>0</td>\n      <td>0</td>\n      <td>1</td>\n      <td>0</td>\n      <td>0</td>\n      <td>0</td>\n      <td>0</td>\n      <td>0</td>\n      <td>0</td>\n      <td>0</td>\n      <td>0</td>\n      <td>1</td>\n      <td>0</td>\n      <td>0</td>\n      <td>1</td>\n      <td>0</td>\n      <td>0</td>\n      <td>0</td>\n      <td>0</td>\n    </tr>\n    <tr>\n      <th>3</th>\n      <td>IndiGo</td>\n      <td>Kolkata</td>\n      <td>Banglore</td>\n      <td>1</td>\n      <td>6218.0</td>\n      <td>12</td>\n      <td>5</td>\n      <td>18</td>\n      <td>5</td>\n      <td>23</td>\n      <td>30</td>\n      <td>5</td>\n      <td>25</td>\n      <td>0</td>\n      <td>0</td>\n      <td>1</td>\n      <td>0</td>\n      <td>0</td>\n      <td>0</td>\n      <td>0</td>\n      <td>0</td>\n      <td>0</td>\n      <td>0</td>\n      <td>0</td>\n      <td>0</td>\n      <td>0</td>\n      <td>1</td>\n      <td>0</td>\n      <td>0</td>\n      <td>0</td>\n      <td>0</td>\n      <td>0</td>\n      <td>0</td>\n    </tr>\n    <tr>\n      <th>4</th>\n      <td>IndiGo</td>\n      <td>Banglore</td>\n      <td>New Delhi</td>\n      <td>1</td>\n      <td>13302.0</td>\n      <td>1</td>\n      <td>3</td>\n      <td>16</td>\n      <td>50</td>\n      <td>21</td>\n      <td>35</td>\n      <td>4</td>\n      <td>45</td>\n      <td>0</td>\n      <td>0</td>\n      <td>1</td>\n      <td>0</td>\n      <td>0</td>\n      <td>0</td>\n      <td>0</td>\n      <td>0</td>\n      <td>0</td>\n      <td>0</td>\n      <td>0</td>\n      <td>0</td>\n      <td>0</td>\n      <td>0</td>\n      <td>0</td>\n      <td>0</td>\n      <td>0</td>\n      <td>0</td>\n      <td>0</td>\n      <td>1</td>\n    </tr>\n  </tbody>\n</table>\n</div>"
     },
     "execution_count": 38,
     "metadata": {},
     "output_type": "execute_result"
    }
   ],
   "source": [
    "data_train.head()"
   ]
  },
  {
   "cell_type": "code",
   "execution_count": 39,
   "metadata": {
    "id": "Qc1QNy_-yvrt"
   },
   "outputs": [],
   "source": [
    "data_train.drop([\"Airline\", \"Source\", \"Destination\"], axis = 1, inplace = True)"
   ]
  },
  {
   "cell_type": "code",
   "execution_count": 40,
   "metadata": {
    "colab": {
     "base_uri": "https://localhost:8080/",
     "height": 305
    },
    "id": "V-BFu18hyvrt",
    "outputId": "2d69acba-be3a-4cbf-d397-661376ab5851"
   },
   "outputs": [
    {
     "data": {
      "text/plain": "   Total_Stops    Price  Journey_day  Journey_month  Dep_hour  Dep_min  \\\n0            0   3897.0           24              3        22       20   \n1            2   7662.0            1              5         5       50   \n2            2  13882.0            9              6         9       25   \n3            1   6218.0           12              5        18        5   \n4            1  13302.0            1              3        16       50   \n\n   Arrival_hour  Arrival_min  Duration_hours  Duration_mins  \\\n0             1           10               2             50   \n1            13           15               7             25   \n2             4           25              19              0   \n3            23           30               5             25   \n4            21           35               4             45   \n\n   Airline_Air India  Airline_GoAir  Airline_IndiGo  Airline_Jet Airways  \\\n0                  0              0               1                    0   \n1                  1              0               0                    0   \n2                  0              0               0                    1   \n3                  0              0               1                    0   \n4                  0              0               1                    0   \n\n   Airline_Jet Airways Business  Airline_Multiple carriers  \\\n0                             0                          0   \n1                             0                          0   \n2                             0                          0   \n3                             0                          0   \n4                             0                          0   \n\n   Airline_Multiple carriers Premium economy  Airline_SpiceJet  \\\n0                                          0                 0   \n1                                          0                 0   \n2                                          0                 0   \n3                                          0                 0   \n4                                          0                 0   \n\n   Airline_Trujet  Airline_Vistara  Airline_Vistara Premium economy  \\\n0               0                0                                0   \n1               0                0                                0   \n2               0                0                                0   \n3               0                0                                0   \n4               0                0                                0   \n\n   Source_Chennai  Source_Delhi  Source_Kolkata  Source_Mumbai  \\\n0               0             0               0              0   \n1               0             0               1              0   \n2               0             1               0              0   \n3               0             0               1              0   \n4               0             0               0              0   \n\n   Destination_Cochin  Destination_Delhi  Destination_Hyderabad  \\\n0                   0                  0                      0   \n1                   0                  0                      0   \n2                   1                  0                      0   \n3                   0                  0                      0   \n4                   0                  0                      0   \n\n   Destination_Kolkata  Destination_New Delhi  \n0                    0                      1  \n1                    0                      0  \n2                    0                      0  \n3                    0                      0  \n4                    0                      1  ",
      "text/html": "<div>\n<style scoped>\n    .dataframe tbody tr th:only-of-type {\n        vertical-align: middle;\n    }\n\n    .dataframe tbody tr th {\n        vertical-align: top;\n    }\n\n    .dataframe thead th {\n        text-align: right;\n    }\n</style>\n<table border=\"1\" class=\"dataframe\">\n  <thead>\n    <tr style=\"text-align: right;\">\n      <th></th>\n      <th>Total_Stops</th>\n      <th>Price</th>\n      <th>Journey_day</th>\n      <th>Journey_month</th>\n      <th>Dep_hour</th>\n      <th>Dep_min</th>\n      <th>Arrival_hour</th>\n      <th>Arrival_min</th>\n      <th>Duration_hours</th>\n      <th>Duration_mins</th>\n      <th>Airline_Air India</th>\n      <th>Airline_GoAir</th>\n      <th>Airline_IndiGo</th>\n      <th>Airline_Jet Airways</th>\n      <th>Airline_Jet Airways Business</th>\n      <th>Airline_Multiple carriers</th>\n      <th>Airline_Multiple carriers Premium economy</th>\n      <th>Airline_SpiceJet</th>\n      <th>Airline_Trujet</th>\n      <th>Airline_Vistara</th>\n      <th>Airline_Vistara Premium economy</th>\n      <th>Source_Chennai</th>\n      <th>Source_Delhi</th>\n      <th>Source_Kolkata</th>\n      <th>Source_Mumbai</th>\n      <th>Destination_Cochin</th>\n      <th>Destination_Delhi</th>\n      <th>Destination_Hyderabad</th>\n      <th>Destination_Kolkata</th>\n      <th>Destination_New Delhi</th>\n    </tr>\n  </thead>\n  <tbody>\n    <tr>\n      <th>0</th>\n      <td>0</td>\n      <td>3897.0</td>\n      <td>24</td>\n      <td>3</td>\n      <td>22</td>\n      <td>20</td>\n      <td>1</td>\n      <td>10</td>\n      <td>2</td>\n      <td>50</td>\n      <td>0</td>\n      <td>0</td>\n      <td>1</td>\n      <td>0</td>\n      <td>0</td>\n      <td>0</td>\n      <td>0</td>\n      <td>0</td>\n      <td>0</td>\n      <td>0</td>\n      <td>0</td>\n      <td>0</td>\n      <td>0</td>\n      <td>0</td>\n      <td>0</td>\n      <td>0</td>\n      <td>0</td>\n      <td>0</td>\n      <td>0</td>\n      <td>1</td>\n    </tr>\n    <tr>\n      <th>1</th>\n      <td>2</td>\n      <td>7662.0</td>\n      <td>1</td>\n      <td>5</td>\n      <td>5</td>\n      <td>50</td>\n      <td>13</td>\n      <td>15</td>\n      <td>7</td>\n      <td>25</td>\n      <td>1</td>\n      <td>0</td>\n      <td>0</td>\n      <td>0</td>\n      <td>0</td>\n      <td>0</td>\n      <td>0</td>\n      <td>0</td>\n      <td>0</td>\n      <td>0</td>\n      <td>0</td>\n      <td>0</td>\n      <td>0</td>\n      <td>1</td>\n      <td>0</td>\n      <td>0</td>\n      <td>0</td>\n      <td>0</td>\n      <td>0</td>\n      <td>0</td>\n    </tr>\n    <tr>\n      <th>2</th>\n      <td>2</td>\n      <td>13882.0</td>\n      <td>9</td>\n      <td>6</td>\n      <td>9</td>\n      <td>25</td>\n      <td>4</td>\n      <td>25</td>\n      <td>19</td>\n      <td>0</td>\n      <td>0</td>\n      <td>0</td>\n      <td>0</td>\n      <td>1</td>\n      <td>0</td>\n      <td>0</td>\n      <td>0</td>\n      <td>0</td>\n      <td>0</td>\n      <td>0</td>\n      <td>0</td>\n      <td>0</td>\n      <td>1</td>\n      <td>0</td>\n      <td>0</td>\n      <td>1</td>\n      <td>0</td>\n      <td>0</td>\n      <td>0</td>\n      <td>0</td>\n    </tr>\n    <tr>\n      <th>3</th>\n      <td>1</td>\n      <td>6218.0</td>\n      <td>12</td>\n      <td>5</td>\n      <td>18</td>\n      <td>5</td>\n      <td>23</td>\n      <td>30</td>\n      <td>5</td>\n      <td>25</td>\n      <td>0</td>\n      <td>0</td>\n      <td>1</td>\n      <td>0</td>\n      <td>0</td>\n      <td>0</td>\n      <td>0</td>\n      <td>0</td>\n      <td>0</td>\n      <td>0</td>\n      <td>0</td>\n      <td>0</td>\n      <td>0</td>\n      <td>1</td>\n      <td>0</td>\n      <td>0</td>\n      <td>0</td>\n      <td>0</td>\n      <td>0</td>\n      <td>0</td>\n    </tr>\n    <tr>\n      <th>4</th>\n      <td>1</td>\n      <td>13302.0</td>\n      <td>1</td>\n      <td>3</td>\n      <td>16</td>\n      <td>50</td>\n      <td>21</td>\n      <td>35</td>\n      <td>4</td>\n      <td>45</td>\n      <td>0</td>\n      <td>0</td>\n      <td>1</td>\n      <td>0</td>\n      <td>0</td>\n      <td>0</td>\n      <td>0</td>\n      <td>0</td>\n      <td>0</td>\n      <td>0</td>\n      <td>0</td>\n      <td>0</td>\n      <td>0</td>\n      <td>0</td>\n      <td>0</td>\n      <td>0</td>\n      <td>0</td>\n      <td>0</td>\n      <td>0</td>\n      <td>1</td>\n    </tr>\n  </tbody>\n</table>\n</div>"
     },
     "execution_count": 40,
     "metadata": {},
     "output_type": "execute_result"
    }
   ],
   "source": [
    "data_train.head()"
   ]
  },
  {
   "cell_type": "code",
   "execution_count": 41,
   "metadata": {
    "colab": {
     "base_uri": "https://localhost:8080/"
    },
    "id": "j4BxJCQpyvrt",
    "outputId": "963d6128-ef83-49d3-a4bf-cf817d37d2b5"
   },
   "outputs": [
    {
     "data": {
      "text/plain": "(10682, 30)"
     },
     "execution_count": 41,
     "metadata": {},
     "output_type": "execute_result"
    }
   ],
   "source": [
    "data_train.shape"
   ]
  },
  {
   "cell_type": "markdown",
   "metadata": {
    "id": "DUfSB8G8yvrt"
   },
   "source": [
    "---"
   ]
  },
  {
   "cell_type": "markdown",
   "metadata": {
    "id": "asavnDN4yvrt"
   },
   "source": [
    "## Test set"
   ]
  },
  {
   "cell_type": "code",
   "execution_count": 42,
   "metadata": {
    "id": "SoIlBJrmyvrt"
   },
   "outputs": [],
   "source": [
    "test_data = pd.read_excel(r\"C:\\Users\\91930\\Desktop\\flight fare project\\Test_set.xlsx\")"
   ]
  },
  {
   "cell_type": "code",
   "execution_count": 43,
   "metadata": {
    "colab": {
     "base_uri": "https://localhost:8080/",
     "height": 652
    },
    "id": "v0LQ_25Dyvrt",
    "outputId": "e048d232-3f6f-4bc6-8548-a8f90a81a3e4"
   },
   "outputs": [
    {
     "data": {
      "text/plain": "             Airline Date_of_Journey    Source Destination            Route  \\\n0        Jet Airways       6/06/2019     Delhi      Cochin  DEL → BOM → COK   \n1             IndiGo      12/05/2019   Kolkata    Banglore  CCU → MAA → BLR   \n2        Jet Airways      21/05/2019     Delhi      Cochin  DEL → BOM → COK   \n3  Multiple carriers      21/05/2019     Delhi      Cochin  DEL → BOM → COK   \n4           Air Asia      24/06/2019  Banglore       Delhi        BLR → DEL   \n\n  Dep_Time  Arrival_Time Duration Total_Stops              Additional_Info  \n0    17:30  04:25 07 Jun  10h 55m      1 stop                      No info  \n1    06:20         10:20       4h      1 stop                      No info  \n2    19:15  19:00 22 May  23h 45m      1 stop  In-flight meal not included  \n3    08:00         21:00      13h      1 stop                      No info  \n4    23:55  02:45 25 Jun   2h 50m    non-stop                      No info  ",
      "text/html": "<div>\n<style scoped>\n    .dataframe tbody tr th:only-of-type {\n        vertical-align: middle;\n    }\n\n    .dataframe tbody tr th {\n        vertical-align: top;\n    }\n\n    .dataframe thead th {\n        text-align: right;\n    }\n</style>\n<table border=\"1\" class=\"dataframe\">\n  <thead>\n    <tr style=\"text-align: right;\">\n      <th></th>\n      <th>Airline</th>\n      <th>Date_of_Journey</th>\n      <th>Source</th>\n      <th>Destination</th>\n      <th>Route</th>\n      <th>Dep_Time</th>\n      <th>Arrival_Time</th>\n      <th>Duration</th>\n      <th>Total_Stops</th>\n      <th>Additional_Info</th>\n    </tr>\n  </thead>\n  <tbody>\n    <tr>\n      <th>0</th>\n      <td>Jet Airways</td>\n      <td>6/06/2019</td>\n      <td>Delhi</td>\n      <td>Cochin</td>\n      <td>DEL → BOM → COK</td>\n      <td>17:30</td>\n      <td>04:25 07 Jun</td>\n      <td>10h 55m</td>\n      <td>1 stop</td>\n      <td>No info</td>\n    </tr>\n    <tr>\n      <th>1</th>\n      <td>IndiGo</td>\n      <td>12/05/2019</td>\n      <td>Kolkata</td>\n      <td>Banglore</td>\n      <td>CCU → MAA → BLR</td>\n      <td>06:20</td>\n      <td>10:20</td>\n      <td>4h</td>\n      <td>1 stop</td>\n      <td>No info</td>\n    </tr>\n    <tr>\n      <th>2</th>\n      <td>Jet Airways</td>\n      <td>21/05/2019</td>\n      <td>Delhi</td>\n      <td>Cochin</td>\n      <td>DEL → BOM → COK</td>\n      <td>19:15</td>\n      <td>19:00 22 May</td>\n      <td>23h 45m</td>\n      <td>1 stop</td>\n      <td>In-flight meal not included</td>\n    </tr>\n    <tr>\n      <th>3</th>\n      <td>Multiple carriers</td>\n      <td>21/05/2019</td>\n      <td>Delhi</td>\n      <td>Cochin</td>\n      <td>DEL → BOM → COK</td>\n      <td>08:00</td>\n      <td>21:00</td>\n      <td>13h</td>\n      <td>1 stop</td>\n      <td>No info</td>\n    </tr>\n    <tr>\n      <th>4</th>\n      <td>Air Asia</td>\n      <td>24/06/2019</td>\n      <td>Banglore</td>\n      <td>Delhi</td>\n      <td>BLR → DEL</td>\n      <td>23:55</td>\n      <td>02:45 25 Jun</td>\n      <td>2h 50m</td>\n      <td>non-stop</td>\n      <td>No info</td>\n    </tr>\n  </tbody>\n</table>\n</div>"
     },
     "execution_count": 43,
     "metadata": {},
     "output_type": "execute_result"
    }
   ],
   "source": [
    "test_data.head()"
   ]
  },
  {
   "cell_type": "code",
   "source": [
    "test_data.describe()"
   ],
   "metadata": {
    "colab": {
     "base_uri": "https://localhost:8080/",
     "height": 300
    },
    "id": "8PYmuhoCYmU2",
    "outputId": "5376cec2-2f20-4ed6-8b7e-c4a44fdad434"
   },
   "execution_count": 44,
   "outputs": [
    {
     "data": {
      "text/plain": "            Airline Date_of_Journey Source Destination            Route  \\\ncount          2671            2671   2671        2671             2671   \nunique           11              44      5           6              100   \ntop     Jet Airways       9/05/2019  Delhi      Cochin  DEL → BOM → COK   \nfreq            897             144   1145        1145              624   \n\n       Dep_Time Arrival_Time Duration Total_Stops Additional_Info  \ncount      2671         2671     2671        2671            2671  \nunique      199          704      320           5               6  \ntop       10:00        19:00   2h 50m      1 stop         No info  \nfreq         62          113      122        1431            2148  ",
      "text/html": "<div>\n<style scoped>\n    .dataframe tbody tr th:only-of-type {\n        vertical-align: middle;\n    }\n\n    .dataframe tbody tr th {\n        vertical-align: top;\n    }\n\n    .dataframe thead th {\n        text-align: right;\n    }\n</style>\n<table border=\"1\" class=\"dataframe\">\n  <thead>\n    <tr style=\"text-align: right;\">\n      <th></th>\n      <th>Airline</th>\n      <th>Date_of_Journey</th>\n      <th>Source</th>\n      <th>Destination</th>\n      <th>Route</th>\n      <th>Dep_Time</th>\n      <th>Arrival_Time</th>\n      <th>Duration</th>\n      <th>Total_Stops</th>\n      <th>Additional_Info</th>\n    </tr>\n  </thead>\n  <tbody>\n    <tr>\n      <th>count</th>\n      <td>2671</td>\n      <td>2671</td>\n      <td>2671</td>\n      <td>2671</td>\n      <td>2671</td>\n      <td>2671</td>\n      <td>2671</td>\n      <td>2671</td>\n      <td>2671</td>\n      <td>2671</td>\n    </tr>\n    <tr>\n      <th>unique</th>\n      <td>11</td>\n      <td>44</td>\n      <td>5</td>\n      <td>6</td>\n      <td>100</td>\n      <td>199</td>\n      <td>704</td>\n      <td>320</td>\n      <td>5</td>\n      <td>6</td>\n    </tr>\n    <tr>\n      <th>top</th>\n      <td>Jet Airways</td>\n      <td>9/05/2019</td>\n      <td>Delhi</td>\n      <td>Cochin</td>\n      <td>DEL → BOM → COK</td>\n      <td>10:00</td>\n      <td>19:00</td>\n      <td>2h 50m</td>\n      <td>1 stop</td>\n      <td>No info</td>\n    </tr>\n    <tr>\n      <th>freq</th>\n      <td>897</td>\n      <td>144</td>\n      <td>1145</td>\n      <td>1145</td>\n      <td>624</td>\n      <td>62</td>\n      <td>113</td>\n      <td>122</td>\n      <td>1431</td>\n      <td>2148</td>\n    </tr>\n  </tbody>\n</table>\n</div>"
     },
     "execution_count": 44,
     "metadata": {},
     "output_type": "execute_result"
    }
   ]
  },
  {
   "cell_type": "code",
   "source": [
    "test_data.mean()"
   ],
   "metadata": {
    "colab": {
     "base_uri": "https://localhost:8080/"
    },
    "id": "IVE1J2Wpn_B5",
    "outputId": "2027c8fc-0861-4bc0-81f4-e5a3de126c12"
   },
   "execution_count": 45,
   "outputs": [
    {
     "name": "stderr",
     "output_type": "stream",
     "text": [
      "C:\\Users\\91930\\AppData\\Local\\Temp/ipykernel_30008/3868999310.py:1: FutureWarning: Dropping of nuisance columns in DataFrame reductions (with 'numeric_only=None') is deprecated; in a future version this will raise TypeError.  Select only valid columns before calling the reduction.\n",
      "  test_data.mean()\n"
     ]
    },
    {
     "data": {
      "text/plain": "Series([], dtype: float64)"
     },
     "execution_count": 45,
     "metadata": {},
     "output_type": "execute_result"
    }
   ]
  },
  {
   "cell_type": "code",
   "execution_count": 46,
   "metadata": {
    "colab": {
     "base_uri": "https://localhost:8080/"
    },
    "id": "_R2e80y4yvrt",
    "outputId": "71fdef27-102e-4983-91be-f5de1bbba301"
   },
   "outputs": [
    {
     "name": "stdout",
     "output_type": "stream",
     "text": [
      "Test data Info\n",
      "---------------------------------------------------------------------------\n",
      "<class 'pandas.core.frame.DataFrame'>\n",
      "RangeIndex: 2671 entries, 0 to 2670\n",
      "Data columns (total 10 columns):\n",
      " #   Column           Non-Null Count  Dtype \n",
      "---  ------           --------------  ----- \n",
      " 0   Airline          2671 non-null   object\n",
      " 1   Date_of_Journey  2671 non-null   object\n",
      " 2   Source           2671 non-null   object\n",
      " 3   Destination      2671 non-null   object\n",
      " 4   Route            2671 non-null   object\n",
      " 5   Dep_Time         2671 non-null   object\n",
      " 6   Arrival_Time     2671 non-null   object\n",
      " 7   Duration         2671 non-null   object\n",
      " 8   Total_Stops      2671 non-null   object\n",
      " 9   Additional_Info  2671 non-null   object\n",
      "dtypes: object(10)\n",
      "memory usage: 208.8+ KB\n",
      "None\n",
      "\n",
      "\n",
      "Null values :\n",
      "---------------------------------------------------------------------------\n",
      "Airline            0\n",
      "Date_of_Journey    0\n",
      "Source             0\n",
      "Destination        0\n",
      "Route              0\n",
      "Dep_Time           0\n",
      "Arrival_Time       0\n",
      "Duration           0\n",
      "Total_Stops        0\n",
      "Additional_Info    0\n",
      "dtype: int64\n",
      "Airline\n",
      "---------------------------------------------------------------------------\n",
      "Jet Airways                          897\n",
      "IndiGo                               511\n",
      "Air India                            440\n",
      "Multiple carriers                    347\n",
      "SpiceJet                             208\n",
      "Vistara                              129\n",
      "Air Asia                              86\n",
      "GoAir                                 46\n",
      "Multiple carriers Premium economy      3\n",
      "Vistara Premium economy                2\n",
      "Jet Airways Business                   2\n",
      "Name: Airline, dtype: int64\n",
      "\n",
      "Source\n",
      "---------------------------------------------------------------------------\n",
      "Delhi       1145\n",
      "Kolkata      710\n",
      "Banglore     555\n",
      "Mumbai       186\n",
      "Chennai       75\n",
      "Name: Source, dtype: int64\n",
      "\n",
      "Destination\n",
      "---------------------------------------------------------------------------\n",
      "Cochin       1145\n",
      "Banglore      710\n",
      "Delhi         317\n",
      "New Delhi     238\n",
      "Hyderabad     186\n",
      "Kolkata        75\n",
      "Name: Destination, dtype: int64\n",
      "\n",
      "\n",
      "Shape of test data :  (2671, 28)\n"
     ]
    }
   ],
   "source": [
    "# Preprocessing\n",
    "\n",
    "print(\"Test data Info\")\n",
    "print(\"-\"*75)\n",
    "print(test_data.info())\n",
    "\n",
    "print()\n",
    "print()\n",
    "\n",
    "print(\"Null values :\")\n",
    "print(\"-\"*75)\n",
    "test_data.dropna(inplace = True)\n",
    "print(test_data.isnull().sum())\n",
    "\n",
    "# EDA\n",
    "\n",
    "# Date_of_Journey\n",
    "test_data[\"Journey_day\"] = pd.to_datetime(test_data.Date_of_Journey, format=\"%d/%m/%Y\").dt.day\n",
    "test_data[\"Journey_month\"] = pd.to_datetime(test_data[\"Date_of_Journey\"], format = \"%d/%m/%Y\").dt.month\n",
    "test_data.drop([\"Date_of_Journey\"], axis = 1, inplace = True)\n",
    "\n",
    "# Dep_Time\n",
    "test_data[\"Dep_hour\"] = pd.to_datetime(test_data[\"Dep_Time\"]).dt.hour\n",
    "test_data[\"Dep_min\"] = pd.to_datetime(test_data[\"Dep_Time\"]).dt.minute\n",
    "test_data.drop([\"Dep_Time\"], axis = 1, inplace = True)\n",
    "\n",
    "# Arrival_Time\n",
    "test_data[\"Arrival_hour\"] = pd.to_datetime(test_data.Arrival_Time).dt.hour\n",
    "test_data[\"Arrival_min\"] = pd.to_datetime(test_data.Arrival_Time).dt.minute\n",
    "test_data.drop([\"Arrival_Time\"], axis = 1, inplace = True)\n",
    "\n",
    "# Duration\n",
    "duration = list(test_data[\"Duration\"])\n",
    "\n",
    "for i in range(len(duration)):\n",
    "    if len(duration[i].split()) != 2:    # Check if duration contains only hour or mins\n",
    "        if \"h\" in duration[i]:\n",
    "            duration[i] = duration[i].strip() + \" 0m\"   # Adds 0 minute\n",
    "        else:\n",
    "            duration[i] = \"0h \" + duration[i]           # Adds 0 hour\n",
    "\n",
    "duration_hours = []\n",
    "duration_mins = []\n",
    "for i in range(len(duration)):\n",
    "    duration_hours.append(int(duration[i].split(sep = \"h\")[0]))    # Extract hours from duration\n",
    "    duration_mins.append(int(duration[i].split(sep = \"m\")[0].split()[-1]))   # Extracts only minutes from duration\n",
    "\n",
    "# Adding Duration column to test set\n",
    "test_data[\"Duration_hours\"] = duration_hours\n",
    "test_data[\"Duration_mins\"] = duration_mins\n",
    "test_data.drop([\"Duration\"], axis = 1, inplace = True)\n",
    "\n",
    "\n",
    "# Categorical data\n",
    "\n",
    "print(\"Airline\")\n",
    "print(\"-\"*75)\n",
    "print(test_data[\"Airline\"].value_counts())\n",
    "Airline = pd.get_dummies(test_data[\"Airline\"], drop_first= True)\n",
    "\n",
    "print()\n",
    "\n",
    "print(\"Source\")\n",
    "print(\"-\"*75)\n",
    "print(test_data[\"Source\"].value_counts())\n",
    "Source = pd.get_dummies(test_data[\"Source\"], drop_first= True)\n",
    "\n",
    "print()\n",
    "\n",
    "print(\"Destination\")\n",
    "print(\"-\"*75)\n",
    "print(test_data[\"Destination\"].value_counts())\n",
    "Destination = pd.get_dummies(test_data[\"Destination\"], drop_first = True)\n",
    "\n",
    "# Additional_Info contains almost 80% no_info\n",
    "# Route and Total_Stops are related to each other\n",
    "test_data.drop([\"Route\", \"Additional_Info\"], axis = 1, inplace = True)\n",
    "\n",
    "# Replacing Total_Stops\n",
    "test_data.replace({\"non-stop\": 0, \"1 stop\": 1, \"2 stops\": 2, \"3 stops\": 3, \"4 stops\": 4}, inplace = True)\n",
    "\n",
    "# Concatenate dataframe --> test_data + Airline + Source + Destination\n",
    "data_test = pd.concat([test_data, Airline, Source, Destination], axis = 1)\n",
    "\n",
    "data_test.drop([\"Airline\", \"Source\", \"Destination\"], axis = 1, inplace = True)\n",
    "\n",
    "print()\n",
    "print()\n",
    "\n",
    "print(\"Shape of test data : \", data_test.shape)\n",
    "\n"
   ]
  },
  {
   "cell_type": "code",
   "execution_count": 47,
   "metadata": {
    "colab": {
     "base_uri": "https://localhost:8080/",
     "height": 322
    },
    "id": "m_xMYkuyyvru",
    "outputId": "699871b4-49ec-45f1-9e3c-09852af5d4bd"
   },
   "outputs": [
    {
     "data": {
      "text/plain": "   Total_Stops  Journey_day  Journey_month  Dep_hour  Dep_min  Arrival_hour  \\\n0            1            6              6        17       30             4   \n1            1           12              5         6       20            10   \n2            1           21              5        19       15            19   \n3            1           21              5         8        0            21   \n4            0           24              6        23       55             2   \n\n   Arrival_min  Duration_hours  Duration_mins  Air India  GoAir  IndiGo  \\\n0           25              10             55          0      0       0   \n1           20               4              0          0      0       1   \n2            0              23             45          0      0       0   \n3            0              13              0          0      0       0   \n4           45               2             50          0      0       0   \n\n   Jet Airways  Jet Airways Business  Multiple carriers  \\\n0            1                     0                  0   \n1            0                     0                  0   \n2            1                     0                  0   \n3            0                     0                  1   \n4            0                     0                  0   \n\n   Multiple carriers Premium economy  SpiceJet  Vistara  \\\n0                                  0         0        0   \n1                                  0         0        0   \n2                                  0         0        0   \n3                                  0         0        0   \n4                                  0         0        0   \n\n   Vistara Premium economy  Chennai  Delhi  Kolkata  Mumbai  Cochin  Delhi  \\\n0                        0        0      1        0       0       1      0   \n1                        0        0      0        1       0       0      0   \n2                        0        0      1        0       0       1      0   \n3                        0        0      1        0       0       1      0   \n4                        0        0      0        0       0       0      1   \n\n   Hyderabad  Kolkata  New Delhi  \n0          0        0          0  \n1          0        0          0  \n2          0        0          0  \n3          0        0          0  \n4          0        0          0  ",
      "text/html": "<div>\n<style scoped>\n    .dataframe tbody tr th:only-of-type {\n        vertical-align: middle;\n    }\n\n    .dataframe tbody tr th {\n        vertical-align: top;\n    }\n\n    .dataframe thead th {\n        text-align: right;\n    }\n</style>\n<table border=\"1\" class=\"dataframe\">\n  <thead>\n    <tr style=\"text-align: right;\">\n      <th></th>\n      <th>Total_Stops</th>\n      <th>Journey_day</th>\n      <th>Journey_month</th>\n      <th>Dep_hour</th>\n      <th>Dep_min</th>\n      <th>Arrival_hour</th>\n      <th>Arrival_min</th>\n      <th>Duration_hours</th>\n      <th>Duration_mins</th>\n      <th>Air India</th>\n      <th>GoAir</th>\n      <th>IndiGo</th>\n      <th>Jet Airways</th>\n      <th>Jet Airways Business</th>\n      <th>Multiple carriers</th>\n      <th>Multiple carriers Premium economy</th>\n      <th>SpiceJet</th>\n      <th>Vistara</th>\n      <th>Vistara Premium economy</th>\n      <th>Chennai</th>\n      <th>Delhi</th>\n      <th>Kolkata</th>\n      <th>Mumbai</th>\n      <th>Cochin</th>\n      <th>Delhi</th>\n      <th>Hyderabad</th>\n      <th>Kolkata</th>\n      <th>New Delhi</th>\n    </tr>\n  </thead>\n  <tbody>\n    <tr>\n      <th>0</th>\n      <td>1</td>\n      <td>6</td>\n      <td>6</td>\n      <td>17</td>\n      <td>30</td>\n      <td>4</td>\n      <td>25</td>\n      <td>10</td>\n      <td>55</td>\n      <td>0</td>\n      <td>0</td>\n      <td>0</td>\n      <td>1</td>\n      <td>0</td>\n      <td>0</td>\n      <td>0</td>\n      <td>0</td>\n      <td>0</td>\n      <td>0</td>\n      <td>0</td>\n      <td>1</td>\n      <td>0</td>\n      <td>0</td>\n      <td>1</td>\n      <td>0</td>\n      <td>0</td>\n      <td>0</td>\n      <td>0</td>\n    </tr>\n    <tr>\n      <th>1</th>\n      <td>1</td>\n      <td>12</td>\n      <td>5</td>\n      <td>6</td>\n      <td>20</td>\n      <td>10</td>\n      <td>20</td>\n      <td>4</td>\n      <td>0</td>\n      <td>0</td>\n      <td>0</td>\n      <td>1</td>\n      <td>0</td>\n      <td>0</td>\n      <td>0</td>\n      <td>0</td>\n      <td>0</td>\n      <td>0</td>\n      <td>0</td>\n      <td>0</td>\n      <td>0</td>\n      <td>1</td>\n      <td>0</td>\n      <td>0</td>\n      <td>0</td>\n      <td>0</td>\n      <td>0</td>\n      <td>0</td>\n    </tr>\n    <tr>\n      <th>2</th>\n      <td>1</td>\n      <td>21</td>\n      <td>5</td>\n      <td>19</td>\n      <td>15</td>\n      <td>19</td>\n      <td>0</td>\n      <td>23</td>\n      <td>45</td>\n      <td>0</td>\n      <td>0</td>\n      <td>0</td>\n      <td>1</td>\n      <td>0</td>\n      <td>0</td>\n      <td>0</td>\n      <td>0</td>\n      <td>0</td>\n      <td>0</td>\n      <td>0</td>\n      <td>1</td>\n      <td>0</td>\n      <td>0</td>\n      <td>1</td>\n      <td>0</td>\n      <td>0</td>\n      <td>0</td>\n      <td>0</td>\n    </tr>\n    <tr>\n      <th>3</th>\n      <td>1</td>\n      <td>21</td>\n      <td>5</td>\n      <td>8</td>\n      <td>0</td>\n      <td>21</td>\n      <td>0</td>\n      <td>13</td>\n      <td>0</td>\n      <td>0</td>\n      <td>0</td>\n      <td>0</td>\n      <td>0</td>\n      <td>0</td>\n      <td>1</td>\n      <td>0</td>\n      <td>0</td>\n      <td>0</td>\n      <td>0</td>\n      <td>0</td>\n      <td>1</td>\n      <td>0</td>\n      <td>0</td>\n      <td>1</td>\n      <td>0</td>\n      <td>0</td>\n      <td>0</td>\n      <td>0</td>\n    </tr>\n    <tr>\n      <th>4</th>\n      <td>0</td>\n      <td>24</td>\n      <td>6</td>\n      <td>23</td>\n      <td>55</td>\n      <td>2</td>\n      <td>45</td>\n      <td>2</td>\n      <td>50</td>\n      <td>0</td>\n      <td>0</td>\n      <td>0</td>\n      <td>0</td>\n      <td>0</td>\n      <td>0</td>\n      <td>0</td>\n      <td>0</td>\n      <td>0</td>\n      <td>0</td>\n      <td>0</td>\n      <td>0</td>\n      <td>0</td>\n      <td>0</td>\n      <td>0</td>\n      <td>1</td>\n      <td>0</td>\n      <td>0</td>\n      <td>0</td>\n    </tr>\n  </tbody>\n</table>\n</div>"
     },
     "execution_count": 47,
     "metadata": {},
     "output_type": "execute_result"
    }
   ],
   "source": [
    "data_test.head()"
   ]
  },
  {
   "cell_type": "markdown",
   "metadata": {
    "id": "s45dtGqvyvru"
   },
   "source": [
    "---"
   ]
  },
  {
   "cell_type": "code",
   "source": [
    "test_data.mean()"
   ],
   "metadata": {
    "colab": {
     "base_uri": "https://localhost:8080/"
    },
    "id": "XfcBE_rfoLwi",
    "outputId": "79f32cdc-3137-497d-d7ba-b50278c76028"
   },
   "execution_count": 48,
   "outputs": [
    {
     "name": "stderr",
     "output_type": "stream",
     "text": [
      "C:\\Users\\91930\\AppData\\Local\\Temp/ipykernel_30008/3868999310.py:1: FutureWarning: Dropping of nuisance columns in DataFrame reductions (with 'numeric_only=None') is deprecated; in a future version this will raise TypeError.  Select only valid columns before calling the reduction.\n",
      "  test_data.mean()\n"
     ]
    },
    {
     "data": {
      "text/plain": "Total_Stops        0.833396\nJourney_day       12.915762\nJourney_month      4.718458\nDep_hour          12.603519\nDep_min           24.891426\nArrival_hour      13.585174\nArrival_min       24.558218\nDuration_hours    10.189068\nDuration_mins     28.397604\ndtype: float64"
     },
     "execution_count": 48,
     "metadata": {},
     "output_type": "execute_result"
    }
   ]
  },
  {
   "cell_type": "markdown",
   "metadata": {
    "id": "oH_uMihTyvru"
   },
   "source": [
    "## Feature Selection"
   ]
  },
  {
   "cell_type": "code",
   "execution_count": 49,
   "metadata": {
    "colab": {
     "base_uri": "https://localhost:8080/"
    },
    "id": "-uadS_G-yvru",
    "outputId": "3578740b-e356-4651-9379-395c04d559c4"
   },
   "outputs": [
    {
     "data": {
      "text/plain": "(10682, 30)"
     },
     "execution_count": 49,
     "metadata": {},
     "output_type": "execute_result"
    }
   ],
   "source": [
    "data_train.shape"
   ]
  },
  {
   "cell_type": "code",
   "execution_count": 50,
   "metadata": {
    "colab": {
     "base_uri": "https://localhost:8080/"
    },
    "id": "A2hIMbBWyvru",
    "outputId": "bf13e3da-e0ba-4b86-db91-5ec23b765634"
   },
   "outputs": [
    {
     "data": {
      "text/plain": "Index(['Total_Stops', 'Price', 'Journey_day', 'Journey_month', 'Dep_hour',\n       'Dep_min', 'Arrival_hour', 'Arrival_min', 'Duration_hours',\n       'Duration_mins', 'Airline_Air India', 'Airline_GoAir', 'Airline_IndiGo',\n       'Airline_Jet Airways', 'Airline_Jet Airways Business',\n       'Airline_Multiple carriers',\n       'Airline_Multiple carriers Premium economy', 'Airline_SpiceJet',\n       'Airline_Trujet', 'Airline_Vistara', 'Airline_Vistara Premium economy',\n       'Source_Chennai', 'Source_Delhi', 'Source_Kolkata', 'Source_Mumbai',\n       'Destination_Cochin', 'Destination_Delhi', 'Destination_Hyderabad',\n       'Destination_Kolkata', 'Destination_New Delhi'],\n      dtype='object')"
     },
     "execution_count": 50,
     "metadata": {},
     "output_type": "execute_result"
    }
   ],
   "source": [
    "data_train.columns"
   ]
  },
  {
   "cell_type": "code",
   "execution_count": 51,
   "metadata": {
    "colab": {
     "base_uri": "https://localhost:8080/",
     "height": 305
    },
    "id": "6PJaWz6Xyvrv",
    "outputId": "89d09181-3016-4792-c759-b0e83276b105"
   },
   "outputs": [
    {
     "data": {
      "text/plain": "   Total_Stops  Journey_day  Journey_month  Dep_hour  Dep_min  Arrival_hour  \\\n0            0           24              3        22       20             1   \n1            2            1              5         5       50            13   \n2            2            9              6         9       25             4   \n3            1           12              5        18        5            23   \n4            1            1              3        16       50            21   \n\n   Arrival_min  Duration_hours  Duration_mins  Airline_Air India  \\\n0           10               2             50                  0   \n1           15               7             25                  1   \n2           25              19              0                  0   \n3           30               5             25                  0   \n4           35               4             45                  0   \n\n   Airline_GoAir  Airline_IndiGo  Airline_Jet Airways  \\\n0              0               1                    0   \n1              0               0                    0   \n2              0               0                    1   \n3              0               1                    0   \n4              0               1                    0   \n\n   Airline_Jet Airways Business  Airline_Multiple carriers  \\\n0                             0                          0   \n1                             0                          0   \n2                             0                          0   \n3                             0                          0   \n4                             0                          0   \n\n   Airline_Multiple carriers Premium economy  Airline_SpiceJet  \\\n0                                          0                 0   \n1                                          0                 0   \n2                                          0                 0   \n3                                          0                 0   \n4                                          0                 0   \n\n   Airline_Trujet  Airline_Vistara  Airline_Vistara Premium economy  \\\n0               0                0                                0   \n1               0                0                                0   \n2               0                0                                0   \n3               0                0                                0   \n4               0                0                                0   \n\n   Source_Chennai  Source_Delhi  Source_Kolkata  Source_Mumbai  \\\n0               0             0               0              0   \n1               0             0               1              0   \n2               0             1               0              0   \n3               0             0               1              0   \n4               0             0               0              0   \n\n   Destination_Cochin  Destination_Delhi  Destination_Hyderabad  \\\n0                   0                  0                      0   \n1                   0                  0                      0   \n2                   1                  0                      0   \n3                   0                  0                      0   \n4                   0                  0                      0   \n\n   Destination_Kolkata  Destination_New Delhi  \n0                    0                      1  \n1                    0                      0  \n2                    0                      0  \n3                    0                      0  \n4                    0                      1  ",
      "text/html": "<div>\n<style scoped>\n    .dataframe tbody tr th:only-of-type {\n        vertical-align: middle;\n    }\n\n    .dataframe tbody tr th {\n        vertical-align: top;\n    }\n\n    .dataframe thead th {\n        text-align: right;\n    }\n</style>\n<table border=\"1\" class=\"dataframe\">\n  <thead>\n    <tr style=\"text-align: right;\">\n      <th></th>\n      <th>Total_Stops</th>\n      <th>Journey_day</th>\n      <th>Journey_month</th>\n      <th>Dep_hour</th>\n      <th>Dep_min</th>\n      <th>Arrival_hour</th>\n      <th>Arrival_min</th>\n      <th>Duration_hours</th>\n      <th>Duration_mins</th>\n      <th>Airline_Air India</th>\n      <th>Airline_GoAir</th>\n      <th>Airline_IndiGo</th>\n      <th>Airline_Jet Airways</th>\n      <th>Airline_Jet Airways Business</th>\n      <th>Airline_Multiple carriers</th>\n      <th>Airline_Multiple carriers Premium economy</th>\n      <th>Airline_SpiceJet</th>\n      <th>Airline_Trujet</th>\n      <th>Airline_Vistara</th>\n      <th>Airline_Vistara Premium economy</th>\n      <th>Source_Chennai</th>\n      <th>Source_Delhi</th>\n      <th>Source_Kolkata</th>\n      <th>Source_Mumbai</th>\n      <th>Destination_Cochin</th>\n      <th>Destination_Delhi</th>\n      <th>Destination_Hyderabad</th>\n      <th>Destination_Kolkata</th>\n      <th>Destination_New Delhi</th>\n    </tr>\n  </thead>\n  <tbody>\n    <tr>\n      <th>0</th>\n      <td>0</td>\n      <td>24</td>\n      <td>3</td>\n      <td>22</td>\n      <td>20</td>\n      <td>1</td>\n      <td>10</td>\n      <td>2</td>\n      <td>50</td>\n      <td>0</td>\n      <td>0</td>\n      <td>1</td>\n      <td>0</td>\n      <td>0</td>\n      <td>0</td>\n      <td>0</td>\n      <td>0</td>\n      <td>0</td>\n      <td>0</td>\n      <td>0</td>\n      <td>0</td>\n      <td>0</td>\n      <td>0</td>\n      <td>0</td>\n      <td>0</td>\n      <td>0</td>\n      <td>0</td>\n      <td>0</td>\n      <td>1</td>\n    </tr>\n    <tr>\n      <th>1</th>\n      <td>2</td>\n      <td>1</td>\n      <td>5</td>\n      <td>5</td>\n      <td>50</td>\n      <td>13</td>\n      <td>15</td>\n      <td>7</td>\n      <td>25</td>\n      <td>1</td>\n      <td>0</td>\n      <td>0</td>\n      <td>0</td>\n      <td>0</td>\n      <td>0</td>\n      <td>0</td>\n      <td>0</td>\n      <td>0</td>\n      <td>0</td>\n      <td>0</td>\n      <td>0</td>\n      <td>0</td>\n      <td>1</td>\n      <td>0</td>\n      <td>0</td>\n      <td>0</td>\n      <td>0</td>\n      <td>0</td>\n      <td>0</td>\n    </tr>\n    <tr>\n      <th>2</th>\n      <td>2</td>\n      <td>9</td>\n      <td>6</td>\n      <td>9</td>\n      <td>25</td>\n      <td>4</td>\n      <td>25</td>\n      <td>19</td>\n      <td>0</td>\n      <td>0</td>\n      <td>0</td>\n      <td>0</td>\n      <td>1</td>\n      <td>0</td>\n      <td>0</td>\n      <td>0</td>\n      <td>0</td>\n      <td>0</td>\n      <td>0</td>\n      <td>0</td>\n      <td>0</td>\n      <td>1</td>\n      <td>0</td>\n      <td>0</td>\n      <td>1</td>\n      <td>0</td>\n      <td>0</td>\n      <td>0</td>\n      <td>0</td>\n    </tr>\n    <tr>\n      <th>3</th>\n      <td>1</td>\n      <td>12</td>\n      <td>5</td>\n      <td>18</td>\n      <td>5</td>\n      <td>23</td>\n      <td>30</td>\n      <td>5</td>\n      <td>25</td>\n      <td>0</td>\n      <td>0</td>\n      <td>1</td>\n      <td>0</td>\n      <td>0</td>\n      <td>0</td>\n      <td>0</td>\n      <td>0</td>\n      <td>0</td>\n      <td>0</td>\n      <td>0</td>\n      <td>0</td>\n      <td>0</td>\n      <td>1</td>\n      <td>0</td>\n      <td>0</td>\n      <td>0</td>\n      <td>0</td>\n      <td>0</td>\n      <td>0</td>\n    </tr>\n    <tr>\n      <th>4</th>\n      <td>1</td>\n      <td>1</td>\n      <td>3</td>\n      <td>16</td>\n      <td>50</td>\n      <td>21</td>\n      <td>35</td>\n      <td>4</td>\n      <td>45</td>\n      <td>0</td>\n      <td>0</td>\n      <td>1</td>\n      <td>0</td>\n      <td>0</td>\n      <td>0</td>\n      <td>0</td>\n      <td>0</td>\n      <td>0</td>\n      <td>0</td>\n      <td>0</td>\n      <td>0</td>\n      <td>0</td>\n      <td>0</td>\n      <td>0</td>\n      <td>0</td>\n      <td>0</td>\n      <td>0</td>\n      <td>0</td>\n      <td>1</td>\n    </tr>\n  </tbody>\n</table>\n</div>"
     },
     "execution_count": 51,
     "metadata": {},
     "output_type": "execute_result"
    }
   ],
   "source": [
    "X = data_train.loc[:, ['Total_Stops', 'Journey_day', 'Journey_month', 'Dep_hour',\n",
    "       'Dep_min', 'Arrival_hour', 'Arrival_min', 'Duration_hours',\n",
    "       'Duration_mins', 'Airline_Air India', 'Airline_GoAir', 'Airline_IndiGo',\n",
    "       'Airline_Jet Airways', 'Airline_Jet Airways Business',\n",
    "       'Airline_Multiple carriers',\n",
    "       'Airline_Multiple carriers Premium economy', 'Airline_SpiceJet',\n",
    "       'Airline_Trujet', 'Airline_Vistara', 'Airline_Vistara Premium economy',\n",
    "       'Source_Chennai', 'Source_Delhi', 'Source_Kolkata', 'Source_Mumbai',\n",
    "       'Destination_Cochin', 'Destination_Delhi', 'Destination_Hyderabad',\n",
    "       'Destination_Kolkata', 'Destination_New Delhi']]\n",
    "X.head()"
   ]
  },
  {
   "cell_type": "code",
   "execution_count": 52,
   "metadata": {
    "colab": {
     "base_uri": "https://localhost:8080/"
    },
    "id": "O7HR5w4gyvrv",
    "outputId": "e0025ac8-3cc9-4856-c750-f31685a94d0b"
   },
   "outputs": [
    {
     "data": {
      "text/plain": "0     3897.0\n1     7662.0\n2    13882.0\n3     6218.0\n4    13302.0\nName: Price, dtype: float64"
     },
     "execution_count": 52,
     "metadata": {},
     "output_type": "execute_result"
    }
   ],
   "source": [
    "y = data_train.iloc[:, 1]\n",
    "y.head()"
   ]
  },
  {
   "cell_type": "code",
   "execution_count": 53,
   "metadata": {
    "colab": {
     "base_uri": "https://localhost:8080/",
     "height": 728
    },
    "id": "rNreP50Syvrv",
    "outputId": "fbb96d8f-114e-4230-81ad-467817edcbcb"
   },
   "outputs": [
    {
     "data": {
      "text/plain": "<Figure size 1296x1296 with 2 Axes>",
      "image/png": "[encoded data removed]"
     },
     "metadata": {},
     "output_type": "display_data"
    }
   ],
   "source": [
    "# Finds correlation between Independent and dependent attributes\n",
    "\n",
    "plt.figure(figsize = (18,18))\n",
    "sns.heatmap(train_data.corr(), annot = True, cmap = \"RdYlGn\")\n",
    "\n",
    "plt.show()"
   ]
  },
  {
   "cell_type": "code",
   "execution_count": 54,
   "metadata": {
    "colab": {
     "base_uri": "https://localhost:8080/"
    },
    "id": "-sxcDPXKyvrv",
    "outputId": "488b0ea7-0514-4a30-84df-b8c19abba7c5"
   },
   "outputs": [
    {
     "data": {
      "text/plain": "ExtraTreesRegressor()"
     },
     "execution_count": 54,
     "metadata": {},
     "output_type": "execute_result"
    }
   ],
   "source": [
    "# Important feature using ExtraTreesRegressor\n",
    "\n",
    "from sklearn.ensemble import ExtraTreesRegressor\n",
    "selection = ExtraTreesRegressor()\n",
    "selection.fit(X, y)"
   ]
  },
  {
   "cell_type": "code",
   "execution_count": 55,
   "metadata": {
    "colab": {
     "base_uri": "https://localhost:8080/"
    },
    "id": "niBSYufuyvrw",
    "outputId": "19b81d5e-5e04-45d2-c526-fe20eeb886cd"
   },
   "outputs": [
    {
     "name": "stdout",
     "output_type": "stream",
     "text": [
      "[2.03367915e-01 1.44021498e-01 5.23411025e-02 2.42980154e-02\n",
      " 2.07670221e-02 2.89372168e-02 1.92075270e-02 1.47289465e-01\n",
      " 1.75302525e-02 9.94448181e-03 1.88852604e-03 1.83812781e-02\n",
      " 1.40463874e-01 6.74655410e-02 1.94913627e-02 8.20218099e-04\n",
      " 3.19168413e-03 9.42958968e-05 5.12544695e-03 8.10556592e-05\n",
      " 5.48150611e-04 7.60787484e-03 3.27546441e-03 7.71616778e-03\n",
      " 1.06142454e-02 1.42537673e-02 5.83904844e-03 4.68601704e-04\n",
      " 2.49689013e-02]\n"
     ]
    }
   ],
   "source": [
    "print(selection.feature_importances_)"
   ]
  },
  {
   "cell_type": "code",
   "execution_count": 56,
   "metadata": {
    "colab": {
     "base_uri": "https://localhost:8080/",
     "height": 364
    },
    "id": "IAAbXvjUyvrw",
    "outputId": "87b5a45b-1b80-4f76-ee78-8edc38178253"
   },
   "outputs": [
    {
     "data": {
      "text/plain": "<Figure size 864x576 with 1 Axes>",
      "image/png": "[encoded data removed]"
     },
     "metadata": {},
     "output_type": "display_data"
    }
   ],
   "source": [
    "#plot graph of feature importances for better visualization\n",
    "\n",
    "plt.figure(figsize = (12,8))\n",
    "feat_importances = pd.Series(selection.feature_importances_, index=X.columns)\n",
    "feat_importances.nlargest(20).plot(kind='barh')\n",
    "plt.show()\n"
   ]
  },
  {
   "cell_type": "markdown",
   "metadata": {
    "id": "DasbtGiKyvrw"
   },
   "source": [
    "---"
   ]
  },
  {
   "cell_type": "markdown",
   "metadata": {
    "id": "2BD9Aea4yvrw"
   },
   "source": [
    "## Fitting model using Random Forest"
   ]
  },
  {
   "cell_type": "code",
   "execution_count": 57,
   "metadata": {
    "id": "5KmAnzr0yvrw"
   },
   "outputs": [],
   "source": [
    "from sklearn.model_selection import train_test_split\n",
    "X_train, X_test, y_train, y_test = train_test_split(X, y, test_size = 0.2, random_state = 42)"
   ]
  },
  {
   "cell_type": "code",
   "execution_count": 58,
   "metadata": {
    "colab": {
     "base_uri": "https://localhost:8080/"
    },
    "id": "79OJOJIhyvrw",
    "outputId": "741116ab-8954-4df1-e84b-c8b41499ed45"
   },
   "outputs": [
    {
     "data": {
      "text/plain": "RandomForestRegressor()"
     },
     "execution_count": 58,
     "metadata": {},
     "output_type": "execute_result"
    }
   ],
   "source": [
    "from sklearn.ensemble import RandomForestRegressor\n",
    "reg_rf = RandomForestRegressor()\n",
    "reg_rf.fit(X_train, y_train)"
   ]
  },
  {
   "cell_type": "code",
   "execution_count": 59,
   "metadata": {
    "id": "fvKc6oQTyvrw"
   },
   "outputs": [],
   "source": [
    "y_pred = reg_rf.predict(X_test)"
   ]
  },
  {
   "cell_type": "code",
   "execution_count": 60,
   "metadata": {
    "colab": {
     "base_uri": "https://localhost:8080/"
    },
    "id": "xS4NURFoyvrw",
    "outputId": "47268d0a-b3ad-4e35-bf1f-6fa1e38b9d61"
   },
   "outputs": [
    {
     "data": {
      "text/plain": "0.9536979783733611"
     },
     "execution_count": 60,
     "metadata": {},
     "output_type": "execute_result"
    }
   ],
   "source": [
    "reg_rf.score(X_train, y_train)"
   ]
  },
  {
   "cell_type": "code",
   "execution_count": 61,
   "metadata": {
    "colab": {
     "base_uri": "https://localhost:8080/"
    },
    "id": "ZhOfaeSUyvrx",
    "outputId": "32dc1675-07a2-4c05-b024-0f1b6420e5cf"
   },
   "outputs": [
    {
     "data": {
      "text/plain": "0.7972765302542637"
     },
     "execution_count": 61,
     "metadata": {},
     "output_type": "execute_result"
    }
   ],
   "source": [
    "reg_rf.score(X_test, y_test)"
   ]
  },
  {
   "cell_type": "code",
   "execution_count": 62,
   "metadata": {
    "colab": {
     "base_uri": "https://localhost:8080/",
     "height": 340
    },
    "id": "mxwwmpDfyvrx",
    "outputId": "a2de28e8-a25f-4a35-ad9c-187d1ec846e4"
   },
   "outputs": [
    {
     "name": "stderr",
     "output_type": "stream",
     "text": [
      "C:\\Users\\91930\\anaconda3\\lib\\site-packages\\seaborn\\distributions.py:2619: FutureWarning: `distplot` is a deprecated function and will be removed in a future version. Please adapt your code to use either `displot` (a figure-level function with similar flexibility) or `histplot` (an axes-level function for histograms).\n",
      "  warnings.warn(msg, FutureWarning)\n"
     ]
    },
    {
     "data": {
      "text/plain": "<Figure size 432x288 with 1 Axes>",
      "image/png": "[encoded data removed]"
     },
     "metadata": {},
     "output_type": "display_data"
    }
   ],
   "source": [
    "sns.distplot(y_test-y_pred)\n",
    "plt.show()"
   ]
  },
  {
   "cell_type": "code",
   "execution_count": 63,
   "metadata": {
    "colab": {
     "base_uri": "https://localhost:8080/",
     "height": 285
    },
    "id": "QSyiVoBWyvrx",
    "outputId": "1af7809d-c6af-4a31-a97e-ccd2a9deb420"
   },
   "outputs": [
    {
     "data": {
      "text/plain": "<Figure size 432x288 with 1 Axes>",
      "image/png": "[encoded data removed]"
     },
     "metadata": {},
     "output_type": "display_data"
    }
   ],
   "source": [
    "\n",
    "plt.scatter(y_test, y_pred, alpha = 0.5)\n",
    "plt.xlabel(\"y_test\")\n",
    "plt.ylabel(\"y_pred\")\n",
    "plt.show()"
   ]
  },
  {
   "cell_type": "code",
   "source": [
    "from sklearn.svm import SVR\n",
    "from sklearn.tree import DecisionTreeRegressor\n",
    "from sklearn.ensemble import RandomForestRegressor\n",
    "from sklearn.ensemble import AdaBoostRegressor"
   ],
   "metadata": {
    "id": "y5OF2JeAWmFV"
   },
   "execution_count": 64,
   "outputs": []
  },
  {
   "cell_type": "code",
   "source": [
    "svr = SVR()\n",
    "dtr = DecisionTreeRegressor()\n",
    "rfr = RandomForestRegressor()\n",
    "abr = AdaBoostRegressor()"
   ],
   "metadata": {
    "id": "RmrXypxuWq3D"
   },
   "execution_count": 65,
   "outputs": []
  },
  {
   "cell_type": "code",
   "source": [
    "svr.fit(X_train, y_train)\n",
    "dtr.fit(X_train, y_train)\n",
    "rfr.fit(X_train, y_train)\n",
    "abr.fit(X_train, y_train)"
   ],
   "metadata": {
    "colab": {
     "base_uri": "https://localhost:8080/"
    },
    "id": "_dXWwUA7W4ff",
    "outputId": "8e74f9af-2a01-4fdf-8113-d39efd01ca00"
   },
   "execution_count": 66,
   "outputs": [
    {
     "data": {
      "text/plain": "AdaBoostRegressor()"
     },
     "execution_count": 66,
     "metadata": {},
     "output_type": "execute_result"
    }
   ]
  },
  {
   "cell_type": "code",
   "source": [
    "Y_pred_svr = svr.predict(X_test)\n",
    "Y_pred_dtr = dtr.predict(X_test)\n",
    "Y_pred_rfr = rfr.predict(X_test)\n",
    "Y_pred_abr = abr.predict(X_test)"
   ],
   "metadata": {
    "id": "nj8T8FPyXH96"
   },
   "execution_count": 67,
   "outputs": []
  },
  {
   "cell_type": "code",
   "source": [
    " # SVR rmse\n",
    "from sklearn.metrics import mean_squared_error\n",
    "import math\n",
    "from sklearn.metrics import r2_score\n",
    "mse = mean_squared_error(y_test, Y_pred_svr)\n",
    "rmse = math.sqrt(mse)\n",
    "print('svr rmse : ',rmse)\n",
    "print('svr r2 : ',r2_score(y_test,Y_pred_svr))"
   ],
   "metadata": {
    "colab": {
     "base_uri": "https://localhost:8080/"
    },
    "id": "Xky0RiZ7XRtN",
    "outputId": "91b6cfad-2165-4e82-8890-ff9cc29637aa"
   },
   "execution_count": 68,
   "outputs": [
    {
     "name": "stdout",
     "output_type": "stream",
     "text": [
      "svr rmse :  4644.462953401568\n",
      "svr r2 :  -0.00041646312498344606\n"
     ]
    }
   ]
  },
  {
   "cell_type": "code",
   "source": [
    "# Decision tree rmse\n",
    "from sklearn.metrics import mean_squared_error\n",
    "import math\n",
    "from sklearn.metrics import r2_score\n",
    "mse = mean_squared_error(y_test, Y_pred_dtr)\n",
    "rmse = math.sqrt(mse)\n",
    "print('Decision tree rmse : ',rmse)\n",
    "print('Decision tree r2 : ',r2_score(y_test, Y_pred_dtr))"
   ],
   "metadata": {
    "id": "GnmcPhnWXnEN",
    "colab": {
     "base_uri": "https://localhost:8080/"
    },
    "outputId": "bdd39b22-e3f7-4c0d-9676-d1ed040814a5"
   },
   "execution_count": 69,
   "outputs": [
    {
     "name": "stdout",
     "output_type": "stream",
     "text": [
      "Decision tree rmse :  2431.651410713574\n",
      "Decision tree r2 :  0.7257715825276151\n"
     ]
    }
   ]
  },
  {
   "cell_type": "code",
   "source": [
    "# Random Forest Regression (rfr)\n",
    "from sklearn.metrics import mean_squared_error\n",
    "import math\n",
    "from sklearn.metrics import r2_score\n",
    "mse = mean_squared_error(y_test, Y_pred_rfr)\n",
    "rmse = math.sqrt(mse)\n",
    "print('RF rmse : ',rmse)\n",
    "print('RF r2 : ',r2_score(y_test, Y_pred_rfr))"
   ],
   "metadata": {
    "id": "SZhY9cHwXsUR",
    "colab": {
     "base_uri": "https://localhost:8080/"
    },
    "outputId": "e99da72c-8d80-48bf-a18c-d1c56097cd1b"
   },
   "execution_count": 70,
   "outputs": [
    {
     "name": "stdout",
     "output_type": "stream",
     "text": [
      "RF rmse :  2098.948702828323\n",
      "RF r2 :  0.7956787798495855\n"
     ]
    }
   ]
  },
  {
   "cell_type": "code",
   "source": [
    "# adaboost regression (abr)\n",
    "from sklearn.metrics import mean_squared_error\n",
    "import math\n",
    "mse = mean_squared_error(y_test, Y_pred_abr)\n",
    "rmse = math.sqrt(mse)\n",
    "print('Adb R rmse : ',rmse)\n",
    "print('Adb R r2 : ',r2_score(y_test, Y_pred_abr))"
   ],
   "metadata": {
    "id": "N9Xu3R1tXuiv",
    "colab": {
     "base_uri": "https://localhost:8080/"
    },
    "outputId": "bd63d10f-7f96-4679-c909-a1a65dbed909"
   },
   "execution_count": 71,
   "outputs": [
    {
     "name": "stdout",
     "output_type": "stream",
     "text": [
      "Adb R rmse :  3392.3376119034883\n",
      "Adb R r2 :  0.4662867817370647\n"
     ]
    }
   ]
  },
  {
   "cell_type": "code",
   "execution_count": 72,
   "metadata": {
    "id": "HjRT5x9nyvrx"
   },
   "outputs": [],
   "source": [
    "from sklearn import metrics"
   ]
  },
  {
   "cell_type": "code",
   "execution_count": 73,
   "metadata": {
    "id": "0s1wwnAzyvrx",
    "colab": {
     "base_uri": "https://localhost:8080/"
    },
    "outputId": "bb424f1b-a957-429e-c5c3-06f7f5c9334a"
   },
   "outputs": [
    {
     "name": "stdout",
     "output_type": "stream",
     "text": [
      "MAE: 1177.0714994565953\n",
      "MSE: 4371134.872887074\n",
      "RMSE: 2090.725920078257\n"
     ]
    }
   ],
   "source": [
    "print('MAE:', metrics.mean_absolute_error(y_test, y_pred))\n",
    "print('MSE:', metrics.mean_squared_error(y_test, y_pred))\n",
    "print('RMSE:', np.sqrt(metrics.mean_squared_error(y_test, y_pred)))"
   ]
  },
  {
   "cell_type": "code",
   "execution_count": 74,
   "metadata": {
    "id": "FEABwF4dyvrx",
    "colab": {
     "base_uri": "https://localhost:8080/"
    },
    "outputId": "85b26285-5644-4de9-e9c4-a5f53bbbfd1e"
   },
   "outputs": [
    {
     "data": {
      "text/plain": "0.026887077025966846"
     },
     "execution_count": 74,
     "metadata": {},
     "output_type": "execute_result"
    }
   ],
   "source": [
    "# RMSE/(max(DV)-min(DV))\n",
    "\n",
    "2090.5509/(max(y)-min(y))"
   ]
  },
  {
   "cell_type": "code",
   "execution_count": 75,
   "metadata": {
    "id": "kz8Yt5GLyvrx",
    "colab": {
     "base_uri": "https://localhost:8080/"
    },
    "outputId": "dec79a98-066f-4997-bad4-e564f95c515c"
   },
   "outputs": [
    {
     "data": {
      "text/plain": "0.7972765302542637"
     },
     "execution_count": 75,
     "metadata": {},
     "output_type": "execute_result"
    }
   ],
   "source": [
    "metrics.r2_score(y_test, y_pred)"
   ]
  },
  {
   "cell_type": "code",
   "execution_count": 75,
   "metadata": {
    "id": "1obgi7Ipyvry"
   },
   "outputs": [],
   "source": []
  },
  {
   "cell_type": "markdown",
   "metadata": {
    "id": "Gjw56Oczyvry"
   },
   "source": [
    "---"
   ]
  },
  {
   "cell_type": "markdown",
   "metadata": {
    "id": "hNcOK8Bgyvry"
   },
   "source": [
    "## Hyperparameter Tuning"
   ]
  },
  {
   "cell_type": "code",
   "execution_count": 76,
   "metadata": {
    "id": "sBGO5EBNyvry"
   },
   "outputs": [],
   "source": [
    "from sklearn.model_selection import RandomizedSearchCV"
   ]
  },
  {
   "cell_type": "code",
   "execution_count": 77,
   "metadata": {
    "id": "5HorJTqOyvry"
   },
   "outputs": [],
   "source": [
    "#Randomized Search CV\n",
    "\n",
    "# Number of trees in random forest\n",
    "n_estimators = [int(x) for x in np.linspace(start = 100, stop = 1200, num = 12)]\n",
    "# Number of features to consider at every split\n",
    "max_features = ['auto', 'sqrt']\n",
    "# Maximum number of levels in tree\n",
    "max_depth = [int(x) for x in np.linspace(5, 30, num = 6)]\n",
    "# Minimum number of samples required to split a node\n",
    "min_samples_split = [2, 5, 10, 15, 100]\n",
    "# Minimum number of samples required at each leaf node\n",
    "min_samples_leaf = [1, 2, 5, 10]"
   ]
  },
  {
   "cell_type": "code",
   "execution_count": 78,
   "metadata": {
    "id": "_b7e8aBpyvry"
   },
   "outputs": [],
   "source": [
    "# Create the random grid\n",
    "\n",
    "random_grid = {'n_estimators': n_estimators,\n",
    "               'max_features': max_features,\n",
    "               'max_depth': max_depth,\n",
    "               'min_samples_split': min_samples_split,\n",
    "               'min_samples_leaf': min_samples_leaf}"
   ]
  },
  {
   "cell_type": "code",
   "execution_count": 79,
   "metadata": {
    "id": "17MtDixtyvry"
   },
   "outputs": [],
   "source": [
    "# Random search of parameters, using 5 fold cross validation, \n",
    "# search across 100 different combinations\n",
    "rf_random = RandomizedSearchCV(estimator = reg_rf, param_distributions = random_grid,scoring='neg_mean_squared_error', n_iter = 10, cv = 5, verbose=2, random_state=42, n_jobs = 1)"
   ]
  },
  {
   "cell_type": "code",
   "execution_count": 80,
   "metadata": {
    "id": "tXwImGlJyvry",
    "colab": {
     "base_uri": "https://localhost:8080/"
    },
    "outputId": "da424eb8-82fb-428b-ca57-b98e4ffbee38"
   },
   "outputs": [
    {
     "name": "stdout",
     "output_type": "stream",
     "text": [
      "Fitting 5 folds for each of 10 candidates, totalling 50 fits\n",
      "[CV] END max_depth=10, max_features=sqrt, min_samples_leaf=5, min_samples_split=5, n_estimators=900; total time=   3.0s\n",
      "[CV] END max_depth=10, max_features=sqrt, min_samples_leaf=5, min_samples_split=5, n_estimators=900; total time=   3.1s\n",
      "[CV] END max_depth=10, max_features=sqrt, min_samples_leaf=5, min_samples_split=5, n_estimators=900; total time=   3.3s\n",
      "[CV] END max_depth=10, max_features=sqrt, min_samples_leaf=5, min_samples_split=5, n_estimators=900; total time=   3.9s\n",
      "[CV] END max_depth=10, max_features=sqrt, min_samples_leaf=5, min_samples_split=5, n_estimators=900; total time=   4.0s\n",
      "[CV] END max_depth=15, max_features=sqrt, min_samples_leaf=2, min_samples_split=10, n_estimators=1100; total time=   6.3s\n",
      "[CV] END max_depth=15, max_features=sqrt, min_samples_leaf=2, min_samples_split=10, n_estimators=1100; total time=   6.2s\n",
      "[CV] END max_depth=15, max_features=sqrt, min_samples_leaf=2, min_samples_split=10, n_estimators=1100; total time=   5.1s\n",
      "[CV] END max_depth=15, max_features=sqrt, min_samples_leaf=2, min_samples_split=10, n_estimators=1100; total time=   4.9s\n",
      "[CV] END max_depth=15, max_features=sqrt, min_samples_leaf=2, min_samples_split=10, n_estimators=1100; total time=   4.9s\n",
      "[CV] END max_depth=15, max_features=auto, min_samples_leaf=5, min_samples_split=100, n_estimators=300; total time=   2.8s\n",
      "[CV] END max_depth=15, max_features=auto, min_samples_leaf=5, min_samples_split=100, n_estimators=300; total time=   2.9s\n",
      "[CV] END max_depth=15, max_features=auto, min_samples_leaf=5, min_samples_split=100, n_estimators=300; total time=   2.8s\n",
      "[CV] END max_depth=15, max_features=auto, min_samples_leaf=5, min_samples_split=100, n_estimators=300; total time=   2.8s\n",
      "[CV] END max_depth=15, max_features=auto, min_samples_leaf=5, min_samples_split=100, n_estimators=300; total time=   2.9s\n",
      "[CV] END max_depth=15, max_features=auto, min_samples_leaf=5, min_samples_split=5, n_estimators=400; total time=   5.2s\n",
      "[CV] END max_depth=15, max_features=auto, min_samples_leaf=5, min_samples_split=5, n_estimators=400; total time=   5.2s\n",
      "[CV] END max_depth=15, max_features=auto, min_samples_leaf=5, min_samples_split=5, n_estimators=400; total time=   5.3s\n",
      "[CV] END max_depth=15, max_features=auto, min_samples_leaf=5, min_samples_split=5, n_estimators=400; total time=   5.2s\n",
      "[CV] END max_depth=15, max_features=auto, min_samples_leaf=5, min_samples_split=5, n_estimators=400; total time=   5.2s\n",
      "[CV] END max_depth=20, max_features=auto, min_samples_leaf=10, min_samples_split=5, n_estimators=700; total time=   8.3s\n",
      "[CV] END max_depth=20, max_features=auto, min_samples_leaf=10, min_samples_split=5, n_estimators=700; total time=   8.2s\n",
      "[CV] END max_depth=20, max_features=auto, min_samples_leaf=10, min_samples_split=5, n_estimators=700; total time=   8.1s\n",
      "[CV] END max_depth=20, max_features=auto, min_samples_leaf=10, min_samples_split=5, n_estimators=700; total time=   8.1s\n",
      "[CV] END max_depth=20, max_features=auto, min_samples_leaf=10, min_samples_split=5, n_estimators=700; total time=   8.3s\n",
      "[CV] END max_depth=25, max_features=sqrt, min_samples_leaf=1, min_samples_split=2, n_estimators=1000; total time=   7.1s\n",
      "[CV] END max_depth=25, max_features=sqrt, min_samples_leaf=1, min_samples_split=2, n_estimators=1000; total time=   7.1s\n",
      "[CV] END max_depth=25, max_features=sqrt, min_samples_leaf=1, min_samples_split=2, n_estimators=1000; total time=   7.1s\n",
      "[CV] END max_depth=25, max_features=sqrt, min_samples_leaf=1, min_samples_split=2, n_estimators=1000; total time=   7.0s\n",
      "[CV] END max_depth=25, max_features=sqrt, min_samples_leaf=1, min_samples_split=2, n_estimators=1000; total time=   7.0s\n",
      "[CV] END max_depth=5, max_features=sqrt, min_samples_leaf=10, min_samples_split=15, n_estimators=1100; total time=   2.4s\n",
      "[CV] END max_depth=5, max_features=sqrt, min_samples_leaf=10, min_samples_split=15, n_estimators=1100; total time=   2.8s\n",
      "[CV] END max_depth=5, max_features=sqrt, min_samples_leaf=10, min_samples_split=15, n_estimators=1100; total time=   2.5s\n",
      "[CV] END max_depth=5, max_features=sqrt, min_samples_leaf=10, min_samples_split=15, n_estimators=1100; total time=   2.4s\n",
      "[CV] END max_depth=5, max_features=sqrt, min_samples_leaf=10, min_samples_split=15, n_estimators=1100; total time=   2.7s\n",
      "[CV] END max_depth=15, max_features=sqrt, min_samples_leaf=1, min_samples_split=15, n_estimators=300; total time=   1.2s\n",
      "[CV] END max_depth=15, max_features=sqrt, min_samples_leaf=1, min_samples_split=15, n_estimators=300; total time=   1.1s\n",
      "[CV] END max_depth=15, max_features=sqrt, min_samples_leaf=1, min_samples_split=15, n_estimators=300; total time=   1.1s\n",
      "[CV] END max_depth=15, max_features=sqrt, min_samples_leaf=1, min_samples_split=15, n_estimators=300; total time=   1.2s\n",
      "[CV] END max_depth=15, max_features=sqrt, min_samples_leaf=1, min_samples_split=15, n_estimators=300; total time=   1.3s\n",
      "[CV] END max_depth=5, max_features=sqrt, min_samples_leaf=2, min_samples_split=10, n_estimators=700; total time=   1.5s\n",
      "[CV] END max_depth=5, max_features=sqrt, min_samples_leaf=2, min_samples_split=10, n_estimators=700; total time=   1.5s\n",
      "[CV] END max_depth=5, max_features=sqrt, min_samples_leaf=2, min_samples_split=10, n_estimators=700; total time=   1.5s\n",
      "[CV] END max_depth=5, max_features=sqrt, min_samples_leaf=2, min_samples_split=10, n_estimators=700; total time=   1.7s\n",
      "[CV] END max_depth=5, max_features=sqrt, min_samples_leaf=2, min_samples_split=10, n_estimators=700; total time=   1.6s\n",
      "[CV] END max_depth=20, max_features=auto, min_samples_leaf=1, min_samples_split=15, n_estimators=700; total time=   9.8s\n",
      "[CV] END max_depth=20, max_features=auto, min_samples_leaf=1, min_samples_split=15, n_estimators=700; total time=   9.8s\n",
      "[CV] END max_depth=20, max_features=auto, min_samples_leaf=1, min_samples_split=15, n_estimators=700; total time=   9.6s\n",
      "[CV] END max_depth=20, max_features=auto, min_samples_leaf=1, min_samples_split=15, n_estimators=700; total time=   9.7s\n",
      "[CV] END max_depth=20, max_features=auto, min_samples_leaf=1, min_samples_split=15, n_estimators=700; total time=  10.0s\n"
     ]
    },
    {
     "data": {
      "text/plain": "RandomizedSearchCV(cv=5, estimator=RandomForestRegressor(), n_jobs=1,\n                   param_distributions={'max_depth': [5, 10, 15, 20, 25, 30],\n                                        'max_features': ['auto', 'sqrt'],\n                                        'min_samples_leaf': [1, 2, 5, 10],\n                                        'min_samples_split': [2, 5, 10, 15,\n                                                              100],\n                                        'n_estimators': [100, 200, 300, 400,\n                                                         500, 600, 700, 800,\n                                                         900, 1000, 1100,\n                                                         1200]},\n                   random_state=42, scoring='neg_mean_squared_error',\n                   verbose=2)"
     },
     "execution_count": 80,
     "metadata": {},
     "output_type": "execute_result"
    }
   ],
   "source": [
    "rf_random.fit(X_train,y_train)"
   ]
  },
  {
   "cell_type": "code",
   "execution_count": 81,
   "metadata": {
    "id": "bxOatS5Pyvrz",
    "colab": {
     "base_uri": "https://localhost:8080/"
    },
    "outputId": "9aec2e49-bdb9-422a-eddc-463f5d976d9f"
   },
   "outputs": [
    {
     "data": {
      "text/plain": "{'n_estimators': 700,\n 'min_samples_split': 15,\n 'min_samples_leaf': 1,\n 'max_features': 'auto',\n 'max_depth': 20}"
     },
     "execution_count": 81,
     "metadata": {},
     "output_type": "execute_result"
    }
   ],
   "source": [
    "rf_random.best_params_"
   ]
  },
  {
   "cell_type": "code",
   "execution_count": 82,
   "metadata": {
    "id": "sriNXgMayvrz"
   },
   "outputs": [],
   "source": [
    "prediction = rf_random.predict(X_test)"
   ]
  },
  {
   "cell_type": "code",
   "execution_count": 83,
   "metadata": {
    "id": "4E60z4q0yvrz",
    "colab": {
     "base_uri": "https://localhost:8080/",
     "height": 557
    },
    "outputId": "3cc54aa4-2483-4984-9c9c-dc106c2d5a14"
   },
   "outputs": [
    {
     "name": "stderr",
     "output_type": "stream",
     "text": [
      "C:\\Users\\91930\\anaconda3\\lib\\site-packages\\seaborn\\distributions.py:2619: FutureWarning: `distplot` is a deprecated function and will be removed in a future version. Please adapt your code to use either `displot` (a figure-level function with similar flexibility) or `histplot` (an axes-level function for histograms).\n",
      "  warnings.warn(msg, FutureWarning)\n"
     ]
    },
    {
     "data": {
      "text/plain": "<Figure size 576x576 with 1 Axes>",
      "image/png": "[encoded data removed]"
     },
     "metadata": {},
     "output_type": "display_data"
    }
   ],
   "source": [
    "plt.figure(figsize = (8,8))\n",
    "sns.distplot(y_test-prediction)\n",
    "plt.show()"
   ]
  },
  {
   "cell_type": "code",
   "execution_count": 84,
   "metadata": {
    "id": "HBUV1Cjbyvrz",
    "colab": {
     "base_uri": "https://localhost:8080/",
     "height": 502
    },
    "outputId": "b8c8975d-f3d9-408b-c835-79abf6322b8f"
   },
   "outputs": [
    {
     "data": {
      "text/plain": "<Figure size 576x576 with 1 Axes>",
      "image/png": "[encoded data removed]"
     },
     "metadata": {},
     "output_type": "display_data"
    }
   ],
   "source": [
    "plt.figure(figsize = (8,8))\n",
    "plt.scatter(y_test, prediction, alpha = 0.5)\n",
    "plt.xlabel(\"y_test\")\n",
    "plt.ylabel(\"y_pred\")\n",
    "plt.show()"
   ]
  },
  {
   "cell_type": "code",
   "execution_count": 85,
   "metadata": {
    "id": "1PEMTO6wyvrz",
    "colab": {
     "base_uri": "https://localhost:8080/"
    },
    "outputId": "022d1def-98bd-45c5-bb61-7121894034a1"
   },
   "outputs": [
    {
     "name": "stdout",
     "output_type": "stream",
     "text": [
      "MAE: 1163.8900924397099\n",
      "MSE: 4051618.963269355\n",
      "RMSE: 2012.863374218269\n"
     ]
    }
   ],
   "source": [
    "print('MAE:', metrics.mean_absolute_error(y_test, prediction))\n",
    "print('MSE:', metrics.mean_squared_error(y_test, prediction))\n",
    "print('RMSE:', np.sqrt(metrics.mean_squared_error(y_test, prediction)))"
   ]
  },
  {
   "cell_type": "markdown",
   "metadata": {
    "id": "XLlfhgAPyvrz"
   },
   "source": [
    "---"
   ]
  },
  {
   "cell_type": "code",
   "execution_count": 86,
   "outputs": [],
   "source": [
    "import pickle\n",
    "# open a file, where you ant to store the data\n",
    "file = open('flight_rf.pkl', 'wb')\n",
    "\n",
    "# dump information to that file\n",
    "pickle.dump(rf_random, file)"
   ],
   "metadata": {
    "collapsed": false,
    "pycharm": {
     "name": "#%%\n"
    }
   }
  },
  {
   "cell_type": "code",
   "execution_count": 87,
   "outputs": [],
   "source": [
    "model = open('flight_rf.pkl','rb')\n",
    "forest = pickle.load(model)"
   ],
   "metadata": {
    "collapsed": false,
    "pycharm": {
     "name": "#%%\n"
    }
   }
  },
  {
   "cell_type": "code",
   "execution_count": 88,
   "outputs": [],
   "source": [
    "y_prediction = forest.predict(X_test)"
   ],
   "metadata": {
    "collapsed": false,
    "pycharm": {
     "name": "#%%\n"
    }
   }
  },
  {
   "cell_type": "code",
   "execution_count": 89,
   "outputs": [
    {
     "data": {
      "text/plain": "0.8120949643040662"
     },
     "execution_count": 89,
     "metadata": {},
     "output_type": "execute_result"
    }
   ],
   "source": [
    "metrics.r2_score(y_test, y_prediction)"
   ],
   "metadata": {
    "collapsed": false,
    "pycharm": {
     "name": "#%%\n"
    }
   }
  },
  {
   "cell_type": "code",
   "execution_count": 89,
   "outputs": [],
   "source": [],
   "metadata": {
    "collapsed": false,
    "pycharm": {
     "name": "#%%\n"
    }
   }
  }
 ],
 "metadata": {
  "kernelspec": {
   "display_name": "Python 3",
   "language": "python",
   "name": "python3"
  },
  "language_info": {
   "codemirror_mode": {
    "name": "ipython",
    "version": 3
   },
   "file_extension": ".py",
   "mimetype": "text/x-python",
   "name": "python",
   "nbconvert_exporter": "python",
   "pygments_lexer": "ipython3",
   "version": "3.7.6"
  },
  "colab": {
   "name": "flight_price.ipynb",
   "provenance": [],
   "collapsed_sections": []
  }
 },
 "nbformat": 4,
 "nbformat_minor": 0
}